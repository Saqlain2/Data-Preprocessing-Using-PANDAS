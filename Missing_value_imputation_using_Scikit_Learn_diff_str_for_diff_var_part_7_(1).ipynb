{
  "nbformat": 4,
  "nbformat_minor": 0,
  "metadata": {
    "kernelspec": {
      "display_name": "Python 3",
      "language": "python",
      "name": "python3"
    },
    "language_info": {
      "codemirror_mode": {
        "name": "ipython",
        "version": 3
      },
      "file_extension": ".py",
      "mimetype": "text/x-python",
      "name": "python",
      "nbconvert_exporter": "python",
      "pygments_lexer": "ipython3",
      "version": "3.8.5"
    },
    "toc": {
      "base_numbering": 1,
      "nav_menu": {},
      "number_sections": true,
      "sideBar": true,
      "skip_h1_title": false,
      "title_cell": "Table of Contents",
      "title_sidebar": "Contents",
      "toc_cell": false,
      "toc_position": {},
      "toc_section_display": true,
      "toc_window_display": false
    },
    "varInspector": {
      "cols": {
        "lenName": 16,
        "lenType": 16,
        "lenVar": 40
      },
      "kernels_config": {
        "python": {
          "delete_cmd_postfix": "",
          "delete_cmd_prefix": "del ",
          "library": "var_list.py",
          "varRefreshCmd": "print(var_dic_list())"
        },
        "r": {
          "delete_cmd_postfix": ") ",
          "delete_cmd_prefix": "rm(",
          "library": "var_list.r",
          "varRefreshCmd": "cat(var_dic_list()) "
        }
      },
      "types_to_exclude": [
        "module",
        "function",
        "builtin_function_or_method",
        "instance",
        "_Feature"
      ],
      "window_display": false
    },
    "colab": {
      "name": "Missing value imputation using Scikit-Learn - diff str for diff var part-7 (1).ipynb",
      "provenance": [],
      "include_colab_link": true
    }
  },
  "cells": [
    {
      "cell_type": "markdown",
      "metadata": {
        "id": "view-in-github",
        "colab_type": "text"
      },
      "source": [
        "<a href=\"https://colab.research.google.com/github/Saqlain2/Data_Preprocessing_Feature_engineering_Using_PANDAS/blob/main/Missing_value_imputation_using_Scikit_Learn_diff_str_for_diff_var_part_7_(1).ipynb\" target=\"_parent\"><img src=\"https://colab.research.google.com/assets/colab-badge.svg\" alt=\"Open In Colab\"/></a>"
      ]
    },
    {
      "cell_type": "raw",
      "metadata": {
        "id": "qgpUQztZqDr9"
      },
      "source": [
        "This source code created by IndianAIProduction.com team\n",
        "https:\\\\www.IndianAIProduction.com\\handling-missing-Values-data-cleaning\n",
        "\n",
        "Video on \n",
        "Missing Value Imputation - using scikit-learnn part-6:https://youtu.be/sRk3GoyJPtU\n",
        "Missing Value Imputation - using scikit-learnn part-7: https://youtu.be/sbk1mzLquz4\n",
        "        \n",
        "\n",
        "for video tutorial visit our youtube channel\n",
        "www.youtube.com\\IndianAIProduction\n",
        "\n",
        "About Scikit-Learn:\n",
        "-------------------\n",
        "sklearn.impute.SimpleImputer: https://scikit-learn.org/stable/modules/generated/sklearn.impute.SimpleImputer.html\n",
        "sklearn.pipeline.Pipeline: https://scikit-learn.org/stable/modules/generated/sklearn.pipeline.Pipeline.html\n",
        "sklearn.compose.ColumnTransformer: https://scikit-learn.org/stable/modules/generated/sklearn.compose.ColumnTransformer.html    "
      ]
    },
    {
      "cell_type": "markdown",
      "metadata": {
        "id": "xTxfcvyCqDsL"
      },
      "source": [
        "# Data Cleaning\n",
        "## Missing value imputation using Scikit-Learn\n",
        "### Different strategy for different variables(Numerical & Categorical) with Scikit-Learn"
      ]
    },
    {
      "cell_type": "code",
      "metadata": {
        "id": "W4Ci3D9MqDsO"
      },
      "source": [
        "import numpy as np \n",
        "import pandas as pd \n",
        "from sklearn.impute import SimpleImputer\n",
        "from sklearn.compose import ColumnTransformer\n",
        "from sklearn.pipeline import Pipeline"
      ],
      "execution_count": null,
      "outputs": []
    },
    {
      "cell_type": "code",
      "metadata": {
        "id": "XnScFZKUqDsR",
        "outputId": "325cb1ed-fa17-40fe-9751-f4bbe029ec29"
      },
      "source": [
        "# Load data\n",
        "train = pd.read_csv(r'C:\\Users\\SaifzWorld.Lenovo-PC\\Desktop\\saqlain_csv\\house_pred.csv')\n",
        "test = pd.read_csv(r'C:\\Users\\SaifzWorld.Lenovo-PC\\Desktop\\saqlain_csv\\hiuse_pred_test.csv')\n",
        "print(\"Shape of train df = \", train.shape)\n",
        "print(\"Shape of test df =\", test.shape)"
      ],
      "execution_count": null,
      "outputs": [
        {
          "output_type": "stream",
          "text": [
            "Shape of train df =  (1460, 81)\n",
            "Shape of test df = (1459, 80)\n"
          ],
          "name": "stdout"
        }
      ]
    },
    {
      "cell_type": "code",
      "metadata": {
        "id": "Q1-YJhToqDsX",
        "outputId": "8fb1de5c-09f6-40d7-baff-b665e629c1ea"
      },
      "source": [
        "X_train = train.drop(columns=\"SalePrice\", axis=1)\n",
        "y_train = train[\"SalePrice\"]\n",
        "X_test = test.copy()\n",
        "print(\"Shape of X_train = \", X_train.shape)\n",
        "print(\"Shape of y_train = \", y_train.shape)\n",
        "print(\"Shape of X_test =\", X_test.shape)"
      ],
      "execution_count": null,
      "outputs": [
        {
          "output_type": "stream",
          "text": [
            "Shape of X_train =  (1460, 80)\n",
            "Shape of y_train =  (1460,)\n",
            "Shape of X_test = (1459, 80)\n"
          ],
          "name": "stdout"
        }
      ]
    },
    {
      "cell_type": "markdown",
      "metadata": {
        "id": "wpG2r236qDsY"
      },
      "source": [
        "# Missing value imputation"
      ]
    },
    {
      "cell_type": "code",
      "metadata": {
        "id": "y2qKB0YMqDsY",
        "outputId": "ad7f215b-c810-43fb-a447-ae42e328e7aa"
      },
      "source": [
        "isnull_sum = X_train.isnull().sum()\n",
        "isnull_sum"
      ],
      "execution_count": null,
      "outputs": [
        {
          "output_type": "execute_result",
          "data": {
            "text/plain": [
              "Id                 0\n",
              "MSSubClass         0\n",
              "MSZoning           0\n",
              "LotFrontage      259\n",
              "LotArea            0\n",
              "                ... \n",
              "MiscVal            0\n",
              "MoSold             0\n",
              "YrSold             0\n",
              "SaleType           0\n",
              "SaleCondition      0\n",
              "Length: 80, dtype: int64"
            ]
          },
          "metadata": {
            "tags": []
          },
          "execution_count": 5
        }
      ]
    },
    {
      "cell_type": "code",
      "metadata": {
        "id": "PKOahVEGqDsZ"
      },
      "source": [
        "# finding the numerical variable which have mising value\n",
        "num_vars = X_train.select_dtypes(include=[\"int64\", \"float64\"]).columns\n",
        "num_vars_miss = [var for var in num_vars if isnull_sum[var]>0]"
      ],
      "execution_count": null,
      "outputs": []
    },
    {
      "cell_type": "code",
      "metadata": {
        "id": "jpJHutqaqDsa",
        "outputId": "251e0fb9-cda2-4728-e57a-162091e92467"
      },
      "source": [
        "num_vars_miss"
      ],
      "execution_count": null,
      "outputs": [
        {
          "output_type": "execute_result",
          "data": {
            "text/plain": [
              "['LotFrontage', 'MasVnrArea', 'GarageYrBlt']"
            ]
          },
          "metadata": {
            "tags": []
          },
          "execution_count": 7
        }
      ]
    },
    {
      "cell_type": "code",
      "metadata": {
        "id": "RdOmR4R0qDsb",
        "outputId": "605704a2-0d7e-49c7-caa1-4ebf7c6b4d3b"
      },
      "source": [
        "# finding the categorical variable which have mising value\n",
        "cat_vars = X_train.select_dtypes(include=[\"O\"]).columns\n",
        "cat_vars_miss = [var for var in cat_vars if isnull_sum[var]>0]\n",
        "cat_vars_miss"
      ],
      "execution_count": null,
      "outputs": [
        {
          "output_type": "execute_result",
          "data": {
            "text/plain": [
              "['Alley',\n",
              " 'MasVnrType',\n",
              " 'BsmtQual',\n",
              " 'BsmtCond',\n",
              " 'BsmtExposure',\n",
              " 'BsmtFinType1',\n",
              " 'BsmtFinType2',\n",
              " 'Electrical',\n",
              " 'FireplaceQu',\n",
              " 'GarageType',\n",
              " 'GarageFinish',\n",
              " 'GarageQual',\n",
              " 'GarageCond',\n",
              " 'PoolQC',\n",
              " 'Fence',\n",
              " 'MiscFeature']"
            ]
          },
          "metadata": {
            "tags": []
          },
          "execution_count": 8
        }
      ]
    },
    {
      "cell_type": "code",
      "metadata": {
        "id": "foYFEhj-qDsc"
      },
      "source": [
        "num_var_mean = [\"LotFrontage\"]\n",
        "num_var_median = ['MasVnrArea', 'GarageYrBlt']\n",
        "cat_vars_mode = ['Alley',\n",
        " 'MasVnrType',\n",
        " 'BsmtQual',\n",
        " 'BsmtCond',\n",
        " 'BsmtExposure',\n",
        " 'BsmtFinType1',\n",
        " 'BsmtFinType2',\n",
        " 'Electrical',\n",
        " 'FireplaceQu',]\n",
        "cat_vars_missing = ['GarageType',\n",
        " 'GarageFinish',\n",
        " 'GarageQual',\n",
        " 'GarageCond',\n",
        " 'PoolQC',\n",
        " 'Fence',\n",
        " 'MiscFeature']"
      ],
      "execution_count": null,
      "outputs": []
    },
    {
      "cell_type": "code",
      "metadata": {
        "id": "eN17Au3GqDsc"
      },
      "source": [
        "num_var_mean_imputer = Pipeline(steps=[(\"imputer\", SimpleImputer(strategy=\"mean\"))])\n",
        "num_var_median_imputer = Pipeline(steps=[(\"imputer\", SimpleImputer(strategy=\"median\"))])\n",
        "cat_vars_mode_imputer = Pipeline(steps=[(\"imputer\", SimpleImputer(strategy=\"most_frequent\"))])\n",
        "cat_vars_missing_imputer = Pipeline(steps=[(\"imputer\", SimpleImputer(strategy=\"constant\", fill_value=\"missing\"))])"
      ],
      "execution_count": null,
      "outputs": []
    },
    {
      "cell_type": "code",
      "metadata": {
        "id": "W5LLd90iqDsd"
      },
      "source": [
        "preprocessor = ColumnTransformer(transformers=[(\"mean_imputer\", num_var_mean_imputer, num_var_mean),\n",
        "                                (\"median_imputer\", num_var_median_imputer, num_var_median),\n",
        "                               (\"mode_imputer\", cat_vars_mode_imputer, cat_vars_mode),\n",
        "                               (\"missing_imputer\", cat_vars_missing_imputer,cat_vars_missing)])"
      ],
      "execution_count": null,
      "outputs": []
    },
    {
      "cell_type": "code",
      "metadata": {
        "id": "p53UrBFsqDse",
        "outputId": "a7381b63-d41b-4904-9718-e8cf9a492b06"
      },
      "source": [
        "preprocessor.fit(X_train)"
      ],
      "execution_count": null,
      "outputs": [
        {
          "output_type": "execute_result",
          "data": {
            "text/plain": [
              "ColumnTransformer(transformers=[('mean_imputer',\n",
              "                                 Pipeline(steps=[('imputer', SimpleImputer())]),\n",
              "                                 ['LotFrontage']),\n",
              "                                ('median_imputer',\n",
              "                                 Pipeline(steps=[('imputer',\n",
              "                                                  SimpleImputer(strategy='median'))]),\n",
              "                                 ['MasVnrArea', 'GarageYrBlt']),\n",
              "                                ('mode_imputer',\n",
              "                                 Pipeline(steps=[('imputer',\n",
              "                                                  SimpleImputer(strategy='most_frequent'))]),\n",
              "                                 ['Alley', 'MasVnrType', 'BsmtQual', 'BsmtCond',\n",
              "                                  'BsmtExposure', 'BsmtFinType1',\n",
              "                                  'BsmtFinType2', 'Electrical',\n",
              "                                  'FireplaceQu']),\n",
              "                                ('missing_imputer',\n",
              "                                 Pipeline(steps=[('imputer',\n",
              "                                                  SimpleImputer(fill_value='missing',\n",
              "                                                                strategy='constant'))]),\n",
              "                                 ['GarageType', 'GarageFinish', 'GarageQual',\n",
              "                                  'GarageCond', 'PoolQC', 'Fence',\n",
              "                                  'MiscFeature'])])"
            ]
          },
          "metadata": {
            "tags": []
          },
          "execution_count": 12
        }
      ]
    },
    {
      "cell_type": "code",
      "metadata": {
        "id": "jdzGLLb8qDse",
        "outputId": "aa835ebc-e756-4573-984e-e7aceb66a055"
      },
      "source": [
        "preprocessor.transform\n"
      ],
      "execution_count": null,
      "outputs": [
        {
          "output_type": "execute_result",
          "data": {
            "text/plain": [
              "<bound method ColumnTransformer.transform of ColumnTransformer(transformers=[('mean_imputer',\n",
              "                                 Pipeline(steps=[('imputer', SimpleImputer())]),\n",
              "                                 ['LotFrontage']),\n",
              "                                ('median_imputer',\n",
              "                                 Pipeline(steps=[('imputer',\n",
              "                                                  SimpleImputer(strategy='median'))]),\n",
              "                                 ['MasVnrArea', 'GarageYrBlt']),\n",
              "                                ('mode_imputer',\n",
              "                                 Pipeline(steps=[('imputer',\n",
              "                                                  SimpleImputer(strategy='most_frequent'))]),\n",
              "                                 ['Alley', 'MasVnrType', 'BsmtQual', 'BsmtCond',\n",
              "                                  'BsmtExposure', 'BsmtFinType1',\n",
              "                                  'BsmtFinType2', 'Electrical',\n",
              "                                  'FireplaceQu']),\n",
              "                                ('missing_imputer',\n",
              "                                 Pipeline(steps=[('imputer',\n",
              "                                                  SimpleImputer(fill_value='missing',\n",
              "                                                                strategy='constant'))]),\n",
              "                                 ['GarageType', 'GarageFinish', 'GarageQual',\n",
              "                                  'GarageCond', 'PoolQC', 'Fence',\n",
              "                                  'MiscFeature'])])>"
            ]
          },
          "metadata": {
            "tags": []
          },
          "execution_count": 13
        }
      ]
    },
    {
      "cell_type": "code",
      "metadata": {
        "id": "6OJ9dMo4qDsf",
        "outputId": "ac59aef1-e05a-4784-ddab-74f1cd6aae05"
      },
      "source": [
        "preprocessor.named_transformers_[\"mean_imputer\"].named_steps[\"imputer\"].statistics_"
      ],
      "execution_count": null,
      "outputs": [
        {
          "output_type": "execute_result",
          "data": {
            "text/plain": [
              "array([70.04995837])"
            ]
          },
          "metadata": {
            "tags": []
          },
          "execution_count": 14
        }
      ]
    },
    {
      "cell_type": "code",
      "metadata": {
        "id": "KJz7_sZIqDsg",
        "outputId": "7b27f8f0-d91f-41e4-c7fd-408d6163f460"
      },
      "source": [
        "train[\"LotFrontage\"].mean()"
      ],
      "execution_count": null,
      "outputs": [
        {
          "output_type": "execute_result",
          "data": {
            "text/plain": [
              "70.04995836802665"
            ]
          },
          "metadata": {
            "tags": []
          },
          "execution_count": 15
        }
      ]
    },
    {
      "cell_type": "code",
      "metadata": {
        "id": "LxpFh-MJqDsg",
        "outputId": "309a16f7-aca6-432c-da32-8b61ae0a2779"
      },
      "source": [
        "preprocessor.named_transformers_[\"mode_imputer\"].named_steps[\"imputer\"].statistics_"
      ],
      "execution_count": null,
      "outputs": [
        {
          "output_type": "execute_result",
          "data": {
            "text/plain": [
              "array(['Grvl', 'None', 'TA', 'TA', 'No', 'Unf', 'Unf', 'SBrkr', 'Gd'],\n",
              "      dtype=object)"
            ]
          },
          "metadata": {
            "tags": []
          },
          "execution_count": 16
        }
      ]
    },
    {
      "cell_type": "code",
      "metadata": {
        "id": "u363re5pqDsh"
      },
      "source": [
        "X_train_clean = preprocessor.transform(X_train)\n",
        "X_test_clean = preprocessor.transform(X_test)"
      ],
      "execution_count": null,
      "outputs": []
    },
    {
      "cell_type": "code",
      "metadata": {
        "id": "hhyTCGTeqDsh",
        "outputId": "a74f8723-669f-4456-cbaa-86173768e83f"
      },
      "source": [
        "X_train_clean"
      ],
      "execution_count": null,
      "outputs": [
        {
          "output_type": "execute_result",
          "data": {
            "text/plain": [
              "array([[65.0, 196.0, 2003.0, ..., 'missing', 'missing', 'missing'],\n",
              "       [80.0, 0.0, 1976.0, ..., 'missing', 'missing', 'missing'],\n",
              "       [68.0, 162.0, 2001.0, ..., 'missing', 'missing', 'missing'],\n",
              "       ...,\n",
              "       [66.0, 0.0, 1941.0, ..., 'missing', 'GdPrv', 'Shed'],\n",
              "       [68.0, 0.0, 1950.0, ..., 'missing', 'missing', 'missing'],\n",
              "       [75.0, 0.0, 1965.0, ..., 'missing', 'missing', 'missing']],\n",
              "      dtype=object)"
            ]
          },
          "metadata": {
            "tags": []
          },
          "execution_count": 18
        }
      ]
    },
    {
      "cell_type": "code",
      "metadata": {
        "id": "cR5xE3LoqDsi",
        "outputId": "715eddf2-6d74-497f-8e6b-9c2543a5b263"
      },
      "source": [
        "preprocessor.transformers_"
      ],
      "execution_count": null,
      "outputs": [
        {
          "output_type": "execute_result",
          "data": {
            "text/plain": [
              "[('mean_imputer',\n",
              "  Pipeline(steps=[('imputer', SimpleImputer())]),\n",
              "  ['LotFrontage']),\n",
              " ('median_imputer',\n",
              "  Pipeline(steps=[('imputer', SimpleImputer(strategy='median'))]),\n",
              "  ['MasVnrArea', 'GarageYrBlt']),\n",
              " ('mode_imputer',\n",
              "  Pipeline(steps=[('imputer', SimpleImputer(strategy='most_frequent'))]),\n",
              "  ['Alley',\n",
              "   'MasVnrType',\n",
              "   'BsmtQual',\n",
              "   'BsmtCond',\n",
              "   'BsmtExposure',\n",
              "   'BsmtFinType1',\n",
              "   'BsmtFinType2',\n",
              "   'Electrical',\n",
              "   'FireplaceQu']),\n",
              " ('missing_imputer',\n",
              "  Pipeline(steps=[('imputer',\n",
              "                   SimpleImputer(fill_value='missing', strategy='constant'))]),\n",
              "  ['GarageType',\n",
              "   'GarageFinish',\n",
              "   'GarageQual',\n",
              "   'GarageCond',\n",
              "   'PoolQC',\n",
              "   'Fence',\n",
              "   'MiscFeature']),\n",
              " ('remainder',\n",
              "  'drop',\n",
              "  [0,\n",
              "   1,\n",
              "   2,\n",
              "   4,\n",
              "   5,\n",
              "   7,\n",
              "   8,\n",
              "   9,\n",
              "   10,\n",
              "   11,\n",
              "   12,\n",
              "   13,\n",
              "   14,\n",
              "   15,\n",
              "   16,\n",
              "   17,\n",
              "   18,\n",
              "   19,\n",
              "   20,\n",
              "   21,\n",
              "   22,\n",
              "   23,\n",
              "   24,\n",
              "   27,\n",
              "   28,\n",
              "   29,\n",
              "   34,\n",
              "   36,\n",
              "   37,\n",
              "   38,\n",
              "   39,\n",
              "   40,\n",
              "   41,\n",
              "   43,\n",
              "   44,\n",
              "   45,\n",
              "   46,\n",
              "   47,\n",
              "   48,\n",
              "   49,\n",
              "   50,\n",
              "   51,\n",
              "   52,\n",
              "   53,\n",
              "   54,\n",
              "   55,\n",
              "   56,\n",
              "   61,\n",
              "   62,\n",
              "   65,\n",
              "   66,\n",
              "   67,\n",
              "   68,\n",
              "   69,\n",
              "   70,\n",
              "   71,\n",
              "   75,\n",
              "   76,\n",
              "   77,\n",
              "   78,\n",
              "   79])]"
            ]
          },
          "metadata": {
            "tags": []
          },
          "execution_count": 19
        }
      ]
    },
    {
      "cell_type": "code",
      "metadata": {
        "id": "yJqHBrR1qDsj"
      },
      "source": [
        "X_train_clean_miss_var = pd.DataFrame(X_train_clean, columns=num_var_mean+num_var_median+cat_vars_mode+cat_vars_missing)"
      ],
      "execution_count": null,
      "outputs": []
    },
    {
      "cell_type": "code",
      "metadata": {
        "id": "Zay6qgF0qDsj",
        "outputId": "ceb49423-649f-4130-e2fd-bade955a11a5"
      },
      "source": [
        "X_train_clean_miss_var.head()"
      ],
      "execution_count": null,
      "outputs": [
        {
          "output_type": "execute_result",
          "data": {
            "text/html": [
              "<div>\n",
              "<style scoped>\n",
              "    .dataframe tbody tr th:only-of-type {\n",
              "        vertical-align: middle;\n",
              "    }\n",
              "\n",
              "    .dataframe tbody tr th {\n",
              "        vertical-align: top;\n",
              "    }\n",
              "\n",
              "    .dataframe thead th {\n",
              "        text-align: right;\n",
              "    }\n",
              "</style>\n",
              "<table border=\"1\" class=\"dataframe\">\n",
              "  <thead>\n",
              "    <tr style=\"text-align: right;\">\n",
              "      <th></th>\n",
              "      <th>LotFrontage</th>\n",
              "      <th>MasVnrArea</th>\n",
              "      <th>GarageYrBlt</th>\n",
              "      <th>Alley</th>\n",
              "      <th>MasVnrType</th>\n",
              "      <th>BsmtQual</th>\n",
              "      <th>BsmtCond</th>\n",
              "      <th>BsmtExposure</th>\n",
              "      <th>BsmtFinType1</th>\n",
              "      <th>BsmtFinType2</th>\n",
              "      <th>Electrical</th>\n",
              "      <th>FireplaceQu</th>\n",
              "      <th>GarageType</th>\n",
              "      <th>GarageFinish</th>\n",
              "      <th>GarageQual</th>\n",
              "      <th>GarageCond</th>\n",
              "      <th>PoolQC</th>\n",
              "      <th>Fence</th>\n",
              "      <th>MiscFeature</th>\n",
              "    </tr>\n",
              "  </thead>\n",
              "  <tbody>\n",
              "    <tr>\n",
              "      <th>0</th>\n",
              "      <td>65</td>\n",
              "      <td>196</td>\n",
              "      <td>2003</td>\n",
              "      <td>Grvl</td>\n",
              "      <td>BrkFace</td>\n",
              "      <td>Gd</td>\n",
              "      <td>TA</td>\n",
              "      <td>No</td>\n",
              "      <td>GLQ</td>\n",
              "      <td>Unf</td>\n",
              "      <td>SBrkr</td>\n",
              "      <td>Gd</td>\n",
              "      <td>Attchd</td>\n",
              "      <td>RFn</td>\n",
              "      <td>TA</td>\n",
              "      <td>TA</td>\n",
              "      <td>missing</td>\n",
              "      <td>missing</td>\n",
              "      <td>missing</td>\n",
              "    </tr>\n",
              "    <tr>\n",
              "      <th>1</th>\n",
              "      <td>80</td>\n",
              "      <td>0</td>\n",
              "      <td>1976</td>\n",
              "      <td>Grvl</td>\n",
              "      <td>None</td>\n",
              "      <td>Gd</td>\n",
              "      <td>TA</td>\n",
              "      <td>Gd</td>\n",
              "      <td>ALQ</td>\n",
              "      <td>Unf</td>\n",
              "      <td>SBrkr</td>\n",
              "      <td>TA</td>\n",
              "      <td>Attchd</td>\n",
              "      <td>RFn</td>\n",
              "      <td>TA</td>\n",
              "      <td>TA</td>\n",
              "      <td>missing</td>\n",
              "      <td>missing</td>\n",
              "      <td>missing</td>\n",
              "    </tr>\n",
              "    <tr>\n",
              "      <th>2</th>\n",
              "      <td>68</td>\n",
              "      <td>162</td>\n",
              "      <td>2001</td>\n",
              "      <td>Grvl</td>\n",
              "      <td>BrkFace</td>\n",
              "      <td>Gd</td>\n",
              "      <td>TA</td>\n",
              "      <td>Mn</td>\n",
              "      <td>GLQ</td>\n",
              "      <td>Unf</td>\n",
              "      <td>SBrkr</td>\n",
              "      <td>TA</td>\n",
              "      <td>Attchd</td>\n",
              "      <td>RFn</td>\n",
              "      <td>TA</td>\n",
              "      <td>TA</td>\n",
              "      <td>missing</td>\n",
              "      <td>missing</td>\n",
              "      <td>missing</td>\n",
              "    </tr>\n",
              "    <tr>\n",
              "      <th>3</th>\n",
              "      <td>60</td>\n",
              "      <td>0</td>\n",
              "      <td>1998</td>\n",
              "      <td>Grvl</td>\n",
              "      <td>None</td>\n",
              "      <td>TA</td>\n",
              "      <td>Gd</td>\n",
              "      <td>No</td>\n",
              "      <td>ALQ</td>\n",
              "      <td>Unf</td>\n",
              "      <td>SBrkr</td>\n",
              "      <td>Gd</td>\n",
              "      <td>Detchd</td>\n",
              "      <td>Unf</td>\n",
              "      <td>TA</td>\n",
              "      <td>TA</td>\n",
              "      <td>missing</td>\n",
              "      <td>missing</td>\n",
              "      <td>missing</td>\n",
              "    </tr>\n",
              "    <tr>\n",
              "      <th>4</th>\n",
              "      <td>84</td>\n",
              "      <td>350</td>\n",
              "      <td>2000</td>\n",
              "      <td>Grvl</td>\n",
              "      <td>BrkFace</td>\n",
              "      <td>Gd</td>\n",
              "      <td>TA</td>\n",
              "      <td>Av</td>\n",
              "      <td>GLQ</td>\n",
              "      <td>Unf</td>\n",
              "      <td>SBrkr</td>\n",
              "      <td>TA</td>\n",
              "      <td>Attchd</td>\n",
              "      <td>RFn</td>\n",
              "      <td>TA</td>\n",
              "      <td>TA</td>\n",
              "      <td>missing</td>\n",
              "      <td>missing</td>\n",
              "      <td>missing</td>\n",
              "    </tr>\n",
              "  </tbody>\n",
              "</table>\n",
              "</div>"
            ],
            "text/plain": [
              "  LotFrontage MasVnrArea GarageYrBlt Alley MasVnrType BsmtQual BsmtCond  \\\n",
              "0          65        196        2003  Grvl    BrkFace       Gd       TA   \n",
              "1          80          0        1976  Grvl       None       Gd       TA   \n",
              "2          68        162        2001  Grvl    BrkFace       Gd       TA   \n",
              "3          60          0        1998  Grvl       None       TA       Gd   \n",
              "4          84        350        2000  Grvl    BrkFace       Gd       TA   \n",
              "\n",
              "  BsmtExposure BsmtFinType1 BsmtFinType2 Electrical FireplaceQu GarageType  \\\n",
              "0           No          GLQ          Unf      SBrkr          Gd     Attchd   \n",
              "1           Gd          ALQ          Unf      SBrkr          TA     Attchd   \n",
              "2           Mn          GLQ          Unf      SBrkr          TA     Attchd   \n",
              "3           No          ALQ          Unf      SBrkr          Gd     Detchd   \n",
              "4           Av          GLQ          Unf      SBrkr          TA     Attchd   \n",
              "\n",
              "  GarageFinish GarageQual GarageCond   PoolQC    Fence MiscFeature  \n",
              "0          RFn         TA         TA  missing  missing     missing  \n",
              "1          RFn         TA         TA  missing  missing     missing  \n",
              "2          RFn         TA         TA  missing  missing     missing  \n",
              "3          Unf         TA         TA  missing  missing     missing  \n",
              "4          RFn         TA         TA  missing  missing     missing  "
            ]
          },
          "metadata": {
            "tags": []
          },
          "execution_count": 21
        }
      ]
    },
    {
      "cell_type": "code",
      "metadata": {
        "id": "YiQVQOnVqDsk",
        "outputId": "2cfb28ea-6b05-42e9-88e5-aa4a2f4a805e"
      },
      "source": [
        "X_train_clean_miss_var.isnull().sum().sum()"
      ],
      "execution_count": null,
      "outputs": [
        {
          "output_type": "execute_result",
          "data": {
            "text/plain": [
              "0"
            ]
          },
          "metadata": {
            "tags": []
          },
          "execution_count": 22
        }
      ]
    },
    {
      "cell_type": "code",
      "metadata": {
        "id": "ZsT5zjrZqDsk",
        "outputId": "6fb7225a-46a4-4626-f3ed-a5de0c7e9a4c"
      },
      "source": [
        "train[\"Alley\"].value_counts()"
      ],
      "execution_count": null,
      "outputs": [
        {
          "output_type": "execute_result",
          "data": {
            "text/plain": [
              "Grvl    50\n",
              "Pave    41\n",
              "Name: Alley, dtype: int64"
            ]
          },
          "metadata": {
            "tags": []
          },
          "execution_count": 23
        }
      ]
    },
    {
      "cell_type": "code",
      "metadata": {
        "id": "WFOvGKEnqDsl",
        "outputId": "be514c7c-0eb0-4c7b-dd91-5d8a161257e7"
      },
      "source": [
        "X_train_clean_miss_var[\"Alley\"].value_counts()"
      ],
      "execution_count": null,
      "outputs": [
        {
          "output_type": "execute_result",
          "data": {
            "text/plain": [
              "Grvl    1419\n",
              "Pave      41\n",
              "Name: Alley, dtype: int64"
            ]
          },
          "metadata": {
            "tags": []
          },
          "execution_count": 24
        }
      ]
    },
    {
      "cell_type": "code",
      "metadata": {
        "id": "E4lSg3AYqDsm",
        "outputId": "bbb5df65-65f0-47c2-c5f0-08ca0a4bc1fc"
      },
      "source": [
        "X_train_clean_miss_var[\"MiscFeature\"].value_counts()"
      ],
      "execution_count": null,
      "outputs": [
        {
          "output_type": "execute_result",
          "data": {
            "text/plain": [
              "missing    1406\n",
              "Shed         49\n",
              "Othr          2\n",
              "Gar2          2\n",
              "TenC          1\n",
              "Name: MiscFeature, dtype: int64"
            ]
          },
          "metadata": {
            "tags": []
          },
          "execution_count": 25
        }
      ]
    },
    {
      "cell_type": "markdown",
      "metadata": {
        "id": "6w_FDtpYqDsm"
      },
      "source": [
        "# Home Work  "
      ]
    },
    {
      "cell_type": "markdown",
      "metadata": {
        "id": "TGE9ccYiqDsn"
      },
      "source": [
        "## Create Clean X_train DataFrame with call variables "
      ]
    },
    {
      "cell_type": "code",
      "metadata": {
        "id": "4t1jqshuqDsn"
      },
      "source": [
        "# no missing values variables index\n",
        "remainder_vars_index = [0,\n",
        "   1,\n",
        "   2,\n",
        "   4,\n",
        "   5,\n",
        "   7,\n",
        "   8,\n",
        "   9,\n",
        "   10,\n",
        "   11,\n",
        "   12,\n",
        "   13,\n",
        "   14,\n",
        "   15,\n",
        "   16,\n",
        "   17,\n",
        "   18,\n",
        "   19,\n",
        "   20,\n",
        "   21,\n",
        "   22,\n",
        "   23,\n",
        "   24,\n",
        "   27,\n",
        "   28,\n",
        "   29,\n",
        "   34,\n",
        "   36,\n",
        "   37,\n",
        "   38,\n",
        "   39,\n",
        "   40,\n",
        "   41,\n",
        "   43,\n",
        "   44,\n",
        "   45,\n",
        "   46,\n",
        "   47,\n",
        "   48,\n",
        "   49,\n",
        "   50,\n",
        "   51,\n",
        "   52,\n",
        "   53,\n",
        "   54,\n",
        "   55,\n",
        "   56,\n",
        "   61,\n",
        "   62,\n",
        "   65,\n",
        "   66,\n",
        "   67,\n",
        "   68,\n",
        "   69,\n",
        "   70,\n",
        "   71,\n",
        "   75,\n",
        "   76,\n",
        "   77,\n",
        "   78,\n",
        "   79]"
      ],
      "execution_count": 1,
      "outputs": []
    },
    {
      "cell_type": "code",
      "metadata": {
        "id": "YX08fOksqDso",
        "outputId": "86570eee-67b7-41be-bd12-43d66b2ba36b"
      },
      "source": [
        "# get no missing values variables name using there index\n",
        "remainder_vars = [isnull_sum.keys()[var_index] for var_index in remainder_vars_index]\n",
        "remainder_vars"
      ],
      "execution_count": null,
      "outputs": [
        {
          "output_type": "execute_result",
          "data": {
            "text/plain": [
              "['Id',\n",
              " 'MSSubClass',\n",
              " 'MSZoning',\n",
              " 'LotArea',\n",
              " 'Street',\n",
              " 'LotShape',\n",
              " 'LandContour',\n",
              " 'Utilities',\n",
              " 'LotConfig',\n",
              " 'LandSlope',\n",
              " 'Neighborhood',\n",
              " 'Condition1',\n",
              " 'Condition2',\n",
              " 'BldgType',\n",
              " 'HouseStyle',\n",
              " 'OverallQual',\n",
              " 'OverallCond',\n",
              " 'YearBuilt',\n",
              " 'YearRemodAdd',\n",
              " 'RoofStyle',\n",
              " 'RoofMatl',\n",
              " 'Exterior1st',\n",
              " 'Exterior2nd',\n",
              " 'ExterQual',\n",
              " 'ExterCond',\n",
              " 'Foundation',\n",
              " 'BsmtFinSF1',\n",
              " 'BsmtFinSF2',\n",
              " 'BsmtUnfSF',\n",
              " 'TotalBsmtSF',\n",
              " 'Heating',\n",
              " 'HeatingQC',\n",
              " 'CentralAir',\n",
              " '1stFlrSF',\n",
              " '2ndFlrSF',\n",
              " 'LowQualFinSF',\n",
              " 'GrLivArea',\n",
              " 'BsmtFullBath',\n",
              " 'BsmtHalfBath',\n",
              " 'FullBath',\n",
              " 'HalfBath',\n",
              " 'BedroomAbvGr',\n",
              " 'KitchenAbvGr',\n",
              " 'KitchenQual',\n",
              " 'TotRmsAbvGrd',\n",
              " 'Functional',\n",
              " 'Fireplaces',\n",
              " 'GarageCars',\n",
              " 'GarageArea',\n",
              " 'PavedDrive',\n",
              " 'WoodDeckSF',\n",
              " 'OpenPorchSF',\n",
              " 'EnclosedPorch',\n",
              " '3SsnPorch',\n",
              " 'ScreenPorch',\n",
              " 'PoolArea',\n",
              " 'MiscVal',\n",
              " 'MoSold',\n",
              " 'YrSold',\n",
              " 'SaleType',\n",
              " 'SaleCondition']"
            ]
          },
          "metadata": {
            "tags": []
          },
          "execution_count": 27
        }
      ]
    },
    {
      "cell_type": "code",
      "metadata": {
        "id": "cxB2PI3vqDsp",
        "outputId": "34d83c10-4130-43a1-886b-1bd340fd0f7e"
      },
      "source": [
        "len(remainder_vars)"
      ],
      "execution_count": null,
      "outputs": [
        {
          "output_type": "execute_result",
          "data": {
            "text/plain": [
              "61"
            ]
          },
          "metadata": {
            "tags": []
          },
          "execution_count": 28
        }
      ]
    },
    {
      "cell_type": "code",
      "metadata": {
        "id": "ui1j8kZmqDsq"
      },
      "source": [
        "# concatinate X_train_clean_miss_var df and remainder_vars\n",
        "X_train =  pd.concat([X_train_clean_miss_var,train[remainder_vars]], axis=1)"
      ],
      "execution_count": null,
      "outputs": []
    },
    {
      "cell_type": "code",
      "metadata": {
        "id": "pvwMmw-yqDsq",
        "outputId": "d8825944-f0d9-4f40-b18d-1d4e1c56345c"
      },
      "source": [
        "X_train.shape"
      ],
      "execution_count": null,
      "outputs": [
        {
          "output_type": "execute_result",
          "data": {
            "text/plain": [
              "(1460, 80)"
            ]
          },
          "metadata": {
            "tags": []
          },
          "execution_count": 30
        }
      ]
    },
    {
      "cell_type": "code",
      "metadata": {
        "id": "uBMTP5cmqDsr",
        "outputId": "90740c22-e5a7-4ab9-af07-169b3c36c059"
      },
      "source": [
        "X_train.isnull().sum().sum()"
      ],
      "execution_count": null,
      "outputs": [
        {
          "output_type": "execute_result",
          "data": {
            "text/plain": [
              "0"
            ]
          },
          "metadata": {
            "tags": []
          },
          "execution_count": 31
        }
      ]
    },
    {
      "cell_type": "code",
      "metadata": {
        "id": "mhEfLqdzqDsr",
        "outputId": "b762ccbf-e30d-41f9-ee41-291b475caa12"
      },
      "source": [
        "# Create test DataFrame with missing value imputed variables\n",
        "X_test_clean_miss_var = pd.DataFrame(X_test_clean, columns=num_var_mean+num_var_median+cat_vars_mode+cat_vars_missing)\n",
        "X_test_clean_miss_var.shape"
      ],
      "execution_count": null,
      "outputs": [
        {
          "output_type": "execute_result",
          "data": {
            "text/plain": [
              "(1459, 19)"
            ]
          },
          "metadata": {
            "tags": []
          },
          "execution_count": 32
        }
      ]
    },
    {
      "cell_type": "code",
      "metadata": {
        "id": "dL7j5jhnqDss",
        "outputId": "1a552b27-99a0-40f2-85b9-9921249a633a"
      },
      "source": [
        "X_test_clean_miss_var.isnull().sum().sum()"
      ],
      "execution_count": null,
      "outputs": [
        {
          "output_type": "execute_result",
          "data": {
            "text/plain": [
              "0"
            ]
          },
          "metadata": {
            "tags": []
          },
          "execution_count": 33
        }
      ]
    },
    {
      "cell_type": "code",
      "metadata": {
        "id": "YlpICJ_DqDst",
        "outputId": "9017483a-c0e7-4cd4-d122-6b437c4230e3"
      },
      "source": [
        "# concatinate X_test_clean_miss_var df and remainder_vars\n",
        "X_test =  pd.concat([X_test_clean_miss_var,test[remainder_vars]], axis=1)\n",
        "X_test.shape"
      ],
      "execution_count": null,
      "outputs": [
        {
          "output_type": "execute_result",
          "data": {
            "text/plain": [
              "(1459, 80)"
            ]
          },
          "metadata": {
            "tags": []
          },
          "execution_count": 34
        }
      ]
    },
    {
      "cell_type": "code",
      "metadata": {
        "scrolled": true,
        "id": "KVH692mOqDst",
        "outputId": "7b90eb87-9e5f-4bf2-ea3b-e467523882d4"
      },
      "source": [
        "X_test.isnull().sum().sum()"
      ],
      "execution_count": null,
      "outputs": [
        {
          "output_type": "execute_result",
          "data": {
            "text/plain": [
              "22"
            ]
          },
          "metadata": {
            "tags": []
          },
          "execution_count": 35
        }
      ]
    },
    {
      "cell_type": "code",
      "metadata": {
        "id": "SLnzd3c8qDsu"
      },
      "source": [
        "# 22 <= What is this, in X_test df still missing values as available but why \n",
        "#because we fill missing values in those columns which have missing value present in only X_train df\n",
        "# Basicaly we get df then  find missing values variables then split df into X_train, X_test, y_train, y_test\n",
        "# after that we fill missing value\n",
        "\n",
        "# so if you have train and test df seperatly then first thing you should concatinate then find the missing \n",
        "# values variables it's is great strategy and carry on\n",
        "# so you can try yourself"
      ],
      "execution_count": null,
      "outputs": []
    },
    {
      "cell_type": "code",
      "metadata": {
        "id": "8EOVxwdpqDsu",
        "outputId": "ac7d9bc4-c1f3-46db-c64f-febea5ab3978"
      },
      "source": [
        "isnull_sum_test = X_test.isnull().sum()\n",
        "isnull_sum_test"
      ],
      "execution_count": null,
      "outputs": [
        {
          "output_type": "execute_result",
          "data": {
            "text/plain": [
              "LotFrontage      0\n",
              "MasVnrArea       0\n",
              "GarageYrBlt      0\n",
              "Alley            0\n",
              "MasVnrType       0\n",
              "                ..\n",
              "MiscVal          0\n",
              "MoSold           0\n",
              "YrSold           0\n",
              "SaleType         1\n",
              "SaleCondition    0\n",
              "Length: 80, dtype: int64"
            ]
          },
          "metadata": {
            "tags": []
          },
          "execution_count": 36
        }
      ]
    },
    {
      "cell_type": "code",
      "metadata": {
        "id": "gBLMHlGlqDsv",
        "outputId": "71bba805-c7d6-469e-823c-6c978e590bcd"
      },
      "source": [
        "# finding the numerical variable which have mising value\n",
        "num_vars_test = X_test.select_dtypes(include=[\"int64\", \"float64\"]).columns\n",
        "num_vars_miss_test = [var for var in num_vars_test if isnull_sum_test[var]>0]\n",
        "num_vars_miss_test"
      ],
      "execution_count": null,
      "outputs": [
        {
          "output_type": "execute_result",
          "data": {
            "text/plain": [
              "['BsmtFinSF1',\n",
              " 'BsmtFinSF2',\n",
              " 'BsmtUnfSF',\n",
              " 'TotalBsmtSF',\n",
              " 'BsmtFullBath',\n",
              " 'BsmtHalfBath',\n",
              " 'GarageCars',\n",
              " 'GarageArea']"
            ]
          },
          "metadata": {
            "tags": []
          },
          "execution_count": 37
        }
      ]
    },
    {
      "cell_type": "code",
      "metadata": {
        "scrolled": false,
        "id": "Fz80LUnyqDsv",
        "outputId": "324dde35-d914-4461-ca45-8c3c6376300e"
      },
      "source": [
        "# finding the categorical variable which have mising value\n",
        "cat_vars_test = X_test.select_dtypes(include=[\"O\"]).columns\n",
        "cat_vars_miss_test = [var for var in cat_vars_test if isnull_sum_test[var]>0]\n",
        "cat_vars_miss_test"
      ],
      "execution_count": null,
      "outputs": [
        {
          "output_type": "execute_result",
          "data": {
            "text/plain": [
              "['MSZoning',\n",
              " 'Utilities',\n",
              " 'Exterior1st',\n",
              " 'Exterior2nd',\n",
              " 'KitchenQual',\n",
              " 'Functional',\n",
              " 'SaleType']"
            ]
          },
          "metadata": {
            "tags": []
          },
          "execution_count": 38
        }
      ]
    },
    {
      "cell_type": "markdown",
      "metadata": {
        "id": "0ACAN45oqDsw"
      },
      "source": [
        "Imputing using pipeline and transformer\n",
        "\n",
        "   A] Column name"
      ]
    },
    {
      "cell_type": "code",
      "metadata": {
        "id": "-P--MZf_qDsw"
      },
      "source": [
        "num_var_test = ['BsmtFinSF1',\n",
        " 'BsmtFinSF2',\n",
        " 'BsmtUnfSF',\n",
        " 'TotalBsmtSF',\n",
        " 'BsmtFullBath',\n",
        " 'BsmtHalfBath',\n",
        " 'GarageCars',\n",
        " 'GarageArea']\n",
        "cat_var_test = ['MSZoning',\n",
        " 'Utilities',\n",
        " 'Exterior1st',\n",
        " 'Exterior2nd',\n",
        " 'KitchenQual',\n",
        " 'Functional',\n",
        " 'SaleType']"
      ],
      "execution_count": null,
      "outputs": []
    },
    {
      "cell_type": "markdown",
      "metadata": {
        "id": "28V_6wR9qDsx"
      },
      "source": [
        "B] Creating Pipeline "
      ]
    },
    {
      "cell_type": "code",
      "metadata": {
        "id": "0WXTqEJ5qDsx"
      },
      "source": [
        "num_var_median_test_imp = Pipeline(steps=[('imputer',SimpleImputer(strategy='median'))])\n",
        "cat_var_mode_test_imp = Pipeline(steps=[('imputer',SimpleImputer(strategy=\"most_frequent\"))])"
      ],
      "execution_count": null,
      "outputs": []
    },
    {
      "cell_type": "markdown",
      "metadata": {
        "id": "HzTQERi4qDsx"
      },
      "source": [
        "C] Column Transformer"
      ]
    },
    {
      "cell_type": "code",
      "metadata": {
        "id": "BSdE6OnVqDsy"
      },
      "source": [
        "test_preproccessor = ColumnTransformer(transformers=[(\"median_imputer\",num_var_median_test_imp,num_var_test),\n",
        "                                                    (\"mode_imputer\",cat_var_mode_test_imp,cat_var_test)])"
      ],
      "execution_count": null,
      "outputs": []
    },
    {
      "cell_type": "code",
      "metadata": {
        "id": "v4CDn4UQqDsy",
        "outputId": "977c7c39-0197-4086-f333-81a2b2b198d3"
      },
      "source": [
        "test_preproccessor.fit(X_test)"
      ],
      "execution_count": null,
      "outputs": [
        {
          "output_type": "execute_result",
          "data": {
            "text/plain": [
              "ColumnTransformer(transformers=[('median_imputer',\n",
              "                                 Pipeline(steps=[('imputer',\n",
              "                                                  SimpleImputer(strategy='median'))]),\n",
              "                                 ['BsmtFinSF1', 'BsmtFinSF2', 'BsmtUnfSF',\n",
              "                                  'TotalBsmtSF', 'BsmtFullBath', 'BsmtHalfBath',\n",
              "                                  'GarageCars', 'GarageArea']),\n",
              "                                ('mode_imputer',\n",
              "                                 Pipeline(steps=[('imputer',\n",
              "                                                  SimpleImputer(strategy='most_frequent'))]),\n",
              "                                 ['MSZoning', 'Utilities', 'Exterior1st',\n",
              "                                  'Exterior2nd', 'KitchenQual', 'Functional',\n",
              "                                  'SaleType'])])"
            ]
          },
          "metadata": {
            "tags": []
          },
          "execution_count": 46
        }
      ]
    },
    {
      "cell_type": "code",
      "metadata": {
        "id": "Yhdsnd7YqDsz"
      },
      "source": [
        "X_test_clean = test_preproccessor.transform(X_test)"
      ],
      "execution_count": null,
      "outputs": []
    },
    {
      "cell_type": "code",
      "metadata": {
        "id": "7YsiYBXhqDsz",
        "outputId": "b100789d-7d8f-4645-d403-afb55cd983ad"
      },
      "source": [
        "X_test_clean"
      ],
      "execution_count": null,
      "outputs": [
        {
          "output_type": "execute_result",
          "data": {
            "text/plain": [
              "array([[468.0, 144.0, 270.0, ..., 'TA', 'Typ', 'WD'],\n",
              "       [923.0, 0.0, 406.0, ..., 'Gd', 'Typ', 'WD'],\n",
              "       [791.0, 0.0, 137.0, ..., 'TA', 'Typ', 'WD'],\n",
              "       ...,\n",
              "       [1224.0, 0.0, 0.0, ..., 'TA', 'Typ', 'WD'],\n",
              "       [337.0, 0.0, 575.0, ..., 'TA', 'Typ', 'WD'],\n",
              "       [758.0, 0.0, 238.0, ..., 'TA', 'Typ', 'WD']], dtype=object)"
            ]
          },
          "metadata": {
            "tags": []
          },
          "execution_count": 49
        }
      ]
    },
    {
      "cell_type": "code",
      "metadata": {
        "id": "a5WHZ6xjqDsz"
      },
      "source": [
        "X_test1 = pd.DataFrame(X_test_clean,columns=num_var_test+cat_var_test)"
      ],
      "execution_count": null,
      "outputs": []
    },
    {
      "cell_type": "code",
      "metadata": {
        "id": "w6_LeIxhqDs0",
        "outputId": "541444a5-f78c-4de8-f3df-92be354b2180"
      },
      "source": [
        "X_test1.shape"
      ],
      "execution_count": null,
      "outputs": [
        {
          "output_type": "execute_result",
          "data": {
            "text/plain": [
              "(1459, 15)"
            ]
          },
          "metadata": {
            "tags": []
          },
          "execution_count": 57
        }
      ]
    },
    {
      "cell_type": "code",
      "metadata": {
        "id": "WuIObetZqDs0",
        "outputId": "f2249341-567b-4d75-d849-5710c0da8d0d"
      },
      "source": [
        "X_test1.isnull().sum().sum()"
      ],
      "execution_count": null,
      "outputs": [
        {
          "output_type": "execute_result",
          "data": {
            "text/plain": [
              "0"
            ]
          },
          "metadata": {
            "tags": []
          },
          "execution_count": 69
        }
      ]
    },
    {
      "cell_type": "code",
      "metadata": {
        "collapsed": true,
        "id": "HkKiPJX7qDs1",
        "outputId": "563095a2-876d-4a04-fd99-8ca7ad6cc6d1"
      },
      "source": [
        "test_preproccessor.transformers_"
      ],
      "execution_count": null,
      "outputs": [
        {
          "output_type": "execute_result",
          "data": {
            "text/plain": [
              "[('median_imputer',\n",
              "  Pipeline(steps=[('imputer', SimpleImputer(strategy='median'))]),\n",
              "  ['BsmtFinSF1',\n",
              "   'BsmtFinSF2',\n",
              "   'BsmtUnfSF',\n",
              "   'TotalBsmtSF',\n",
              "   'BsmtFullBath',\n",
              "   'BsmtHalfBath',\n",
              "   'GarageCars',\n",
              "   'GarageArea']),\n",
              " ('mode_imputer',\n",
              "  Pipeline(steps=[('imputer', SimpleImputer(strategy='most_frequent'))]),\n",
              "  ['MSZoning',\n",
              "   'Utilities',\n",
              "   'Exterior1st',\n",
              "   'Exterior2nd',\n",
              "   'KitchenQual',\n",
              "   'Functional',\n",
              "   'SaleType']),\n",
              " ('remainder',\n",
              "  'drop',\n",
              "  [0,\n",
              "   1,\n",
              "   2,\n",
              "   3,\n",
              "   4,\n",
              "   5,\n",
              "   6,\n",
              "   7,\n",
              "   8,\n",
              "   9,\n",
              "   10,\n",
              "   11,\n",
              "   12,\n",
              "   13,\n",
              "   14,\n",
              "   15,\n",
              "   16,\n",
              "   17,\n",
              "   18,\n",
              "   19,\n",
              "   20,\n",
              "   22,\n",
              "   23,\n",
              "   24,\n",
              "   25,\n",
              "   27,\n",
              "   28,\n",
              "   29,\n",
              "   30,\n",
              "   31,\n",
              "   32,\n",
              "   33,\n",
              "   34,\n",
              "   35,\n",
              "   36,\n",
              "   37,\n",
              "   38,\n",
              "   39,\n",
              "   42,\n",
              "   43,\n",
              "   44,\n",
              "   49,\n",
              "   50,\n",
              "   51,\n",
              "   52,\n",
              "   53,\n",
              "   54,\n",
              "   55,\n",
              "   58,\n",
              "   59,\n",
              "   60,\n",
              "   61,\n",
              "   63,\n",
              "   65,\n",
              "   68,\n",
              "   69,\n",
              "   70,\n",
              "   71,\n",
              "   72,\n",
              "   73,\n",
              "   74,\n",
              "   75,\n",
              "   76,\n",
              "   77,\n",
              "   79])]"
            ]
          },
          "metadata": {
            "tags": []
          },
          "execution_count": 52
        }
      ]
    },
    {
      "cell_type": "code",
      "metadata": {
        "id": "fnvhWmhcqDs1"
      },
      "source": [
        "remainder_var_index_test =[0,\n",
        "   1,\n",
        "   2,\n",
        "   3,\n",
        "   4,\n",
        "   5,\n",
        "   6,\n",
        "   7,\n",
        "   8,\n",
        "   9,\n",
        "   10,\n",
        "   11,\n",
        "   12,\n",
        "   13,\n",
        "   14,\n",
        "   15,\n",
        "   16,\n",
        "   17,\n",
        "   18,\n",
        "   19,\n",
        "   20,\n",
        "   22,\n",
        "   23,\n",
        "   24,\n",
        "   25,\n",
        "   27,\n",
        "   28,\n",
        "   29,\n",
        "   30,\n",
        "   31,\n",
        "   32,\n",
        "   33,\n",
        "   34,\n",
        "   35,\n",
        "   36,\n",
        "   37,\n",
        "   38,\n",
        "   39,\n",
        "   42,\n",
        "   43,\n",
        "   44,\n",
        "   49,\n",
        "   50,\n",
        "   51,\n",
        "   52,\n",
        "   53,\n",
        "   54,\n",
        "   55,\n",
        "   58,\n",
        "   59,\n",
        "   60,\n",
        "   61,\n",
        "   63,\n",
        "   65,\n",
        "   68,\n",
        "   69,\n",
        "   70,\n",
        "   71,\n",
        "   72,\n",
        "   73,\n",
        "   74,\n",
        "   75,\n",
        "   76,\n",
        "   77,\n",
        "   79] "
      ],
      "execution_count": null,
      "outputs": []
    },
    {
      "cell_type": "code",
      "metadata": {
        "id": "DyfSjBQtqDs2",
        "outputId": "6ba5da32-105e-4586-9bc3-ad5f0f357df5"
      },
      "source": [
        "reaminder_var_test = [isnull_sum_test.keys()[var]for var in remainder_var_index_test ]\n",
        "reaminder_var_test"
      ],
      "execution_count": null,
      "outputs": [
        {
          "output_type": "execute_result",
          "data": {
            "text/plain": [
              "['LotFrontage',\n",
              " 'MasVnrArea',\n",
              " 'GarageYrBlt',\n",
              " 'Alley',\n",
              " 'MasVnrType',\n",
              " 'BsmtQual',\n",
              " 'BsmtCond',\n",
              " 'BsmtExposure',\n",
              " 'BsmtFinType1',\n",
              " 'BsmtFinType2',\n",
              " 'Electrical',\n",
              " 'FireplaceQu',\n",
              " 'GarageType',\n",
              " 'GarageFinish',\n",
              " 'GarageQual',\n",
              " 'GarageCond',\n",
              " 'PoolQC',\n",
              " 'Fence',\n",
              " 'MiscFeature',\n",
              " 'Id',\n",
              " 'MSSubClass',\n",
              " 'LotArea',\n",
              " 'Street',\n",
              " 'LotShape',\n",
              " 'LandContour',\n",
              " 'LotConfig',\n",
              " 'LandSlope',\n",
              " 'Neighborhood',\n",
              " 'Condition1',\n",
              " 'Condition2',\n",
              " 'BldgType',\n",
              " 'HouseStyle',\n",
              " 'OverallQual',\n",
              " 'OverallCond',\n",
              " 'YearBuilt',\n",
              " 'YearRemodAdd',\n",
              " 'RoofStyle',\n",
              " 'RoofMatl',\n",
              " 'ExterQual',\n",
              " 'ExterCond',\n",
              " 'Foundation',\n",
              " 'Heating',\n",
              " 'HeatingQC',\n",
              " 'CentralAir',\n",
              " '1stFlrSF',\n",
              " '2ndFlrSF',\n",
              " 'LowQualFinSF',\n",
              " 'GrLivArea',\n",
              " 'FullBath',\n",
              " 'HalfBath',\n",
              " 'BedroomAbvGr',\n",
              " 'KitchenAbvGr',\n",
              " 'TotRmsAbvGrd',\n",
              " 'Fireplaces',\n",
              " 'PavedDrive',\n",
              " 'WoodDeckSF',\n",
              " 'OpenPorchSF',\n",
              " 'EnclosedPorch',\n",
              " '3SsnPorch',\n",
              " 'ScreenPorch',\n",
              " 'PoolArea',\n",
              " 'MiscVal',\n",
              " 'MoSold',\n",
              " 'YrSold',\n",
              " 'SaleCondition']"
            ]
          },
          "metadata": {
            "tags": []
          },
          "execution_count": 55
        }
      ]
    },
    {
      "cell_type": "code",
      "metadata": {
        "id": "E2NDNfd9qDs2"
      },
      "source": [
        "main_X_test = pd.concat([X_test1,test[reaminder_var_test]],axis=1)"
      ],
      "execution_count": null,
      "outputs": []
    },
    {
      "cell_type": "code",
      "metadata": {
        "id": "ZiXnKrOUqDs2",
        "outputId": "8482a718-76fa-4f79-a24f-a6afa2effe25"
      },
      "source": [
        "main_X_test.shape"
      ],
      "execution_count": null,
      "outputs": [
        {
          "output_type": "execute_result",
          "data": {
            "text/plain": [
              "(1459, 80)"
            ]
          },
          "metadata": {
            "tags": []
          },
          "execution_count": 78
        }
      ]
    },
    {
      "cell_type": "code",
      "metadata": {
        "id": "A5odIQYoqDs3",
        "outputId": "e80214fd-317f-4204-8f46-1aa56c8d9f75"
      },
      "source": [
        "main_X_test.isnull().sum()\n"
      ],
      "execution_count": null,
      "outputs": [
        {
          "output_type": "execute_result",
          "data": {
            "text/plain": [
              "BsmtFinSF1       0\n",
              "BsmtFinSF2       0\n",
              "BsmtUnfSF        0\n",
              "TotalBsmtSF      0\n",
              "BsmtFullBath     0\n",
              "                ..\n",
              "PoolArea         0\n",
              "MiscVal          0\n",
              "MoSold           0\n",
              "YrSold           0\n",
              "SaleCondition    0\n",
              "Length: 80, dtype: int64"
            ]
          },
          "metadata": {
            "tags": []
          },
          "execution_count": 80
        }
      ]
    },
    {
      "cell_type": "code",
      "metadata": {
        "id": "Bid_VSWzqDs3"
      },
      "source": [
        ""
      ],
      "execution_count": null,
      "outputs": []
    },
    {
      "cell_type": "code",
      "metadata": {
        "id": "a_X4DbDaqDs4"
      },
      "source": [
        ""
      ],
      "execution_count": null,
      "outputs": []
    },
    {
      "cell_type": "code",
      "metadata": {
        "id": "VJv4RtcoqDs4"
      },
      "source": [
        ""
      ],
      "execution_count": null,
      "outputs": []
    },
    {
      "cell_type": "code",
      "metadata": {
        "id": "vbsjCJ1oqDs4"
      },
      "source": [
        ""
      ],
      "execution_count": null,
      "outputs": []
    },
    {
      "cell_type": "code",
      "metadata": {
        "id": "Kw4SWi8eqDs4"
      },
      "source": [
        ""
      ],
      "execution_count": null,
      "outputs": []
    },
    {
      "cell_type": "code",
      "metadata": {
        "id": "2QDD1yFIqDs5"
      },
      "source": [
        ""
      ],
      "execution_count": null,
      "outputs": []
    },
    {
      "cell_type": "code",
      "metadata": {
        "id": "Ph1DJNCJqDs5"
      },
      "source": [
        ""
      ],
      "execution_count": null,
      "outputs": []
    },
    {
      "cell_type": "code",
      "metadata": {
        "id": "LCJt7qiVqDs5"
      },
      "source": [
        ""
      ],
      "execution_count": null,
      "outputs": []
    },
    {
      "cell_type": "code",
      "metadata": {
        "id": "d_rjBcV6qDs5"
      },
      "source": [
        ""
      ],
      "execution_count": null,
      "outputs": []
    },
    {
      "cell_type": "code",
      "metadata": {
        "id": "YmmATxMuqDs6"
      },
      "source": [
        ""
      ],
      "execution_count": null,
      "outputs": []
    }
  ]
}