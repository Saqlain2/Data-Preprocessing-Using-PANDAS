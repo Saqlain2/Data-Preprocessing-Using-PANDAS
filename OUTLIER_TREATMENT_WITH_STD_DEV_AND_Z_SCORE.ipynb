{
  "nbformat": 4,
  "nbformat_minor": 0,
  "metadata": {
    "kernelspec": {
      "display_name": "Python 3",
      "language": "python",
      "name": "python3"
    },
    "language_info": {
      "codemirror_mode": {
        "name": "ipython",
        "version": 3
      },
      "file_extension": ".py",
      "mimetype": "text/x-python",
      "name": "python",
      "nbconvert_exporter": "python",
      "pygments_lexer": "ipython3",
      "version": "3.8.5"
    },
    "colab": {
      "name": "OUTLIER TREATMENT WITH STD DEV AND Z SCORE.ipynb",
      "provenance": [],
      "include_colab_link": true
    }
  },
  "cells": [
    {
      "cell_type": "markdown",
      "metadata": {
        "id": "view-in-github",
        "colab_type": "text"
      },
      "source": [
        "<a href=\"https://colab.research.google.com/github/Saqlain2/Data-Preprocessing-Using-PANDAS/blob/main/OUTLIER_TREATMENT_WITH_STD_DEV_AND_Z_SCORE.ipynb\" target=\"_parent\"><img src=\"https://colab.research.google.com/assets/colab-badge.svg\" alt=\"Open In Colab\"/></a>"
      ]
    },
    {
      "cell_type": "code",
      "metadata": {
        "id": "vlcbvXZIo1H4"
      },
      "source": [
        "import numpy as np\n",
        "import pandas as pd\n",
        "from matplotlib import pyplot as plt\n",
        "%matplotlib inline"
      ],
      "execution_count": null,
      "outputs": []
    },
    {
      "cell_type": "code",
      "metadata": {
        "id": "o22qyr4Po1H8"
      },
      "source": [
        "df = pd.read_csv(\"C:\\\\Users\\\\SaifzWorld.Lenovo-PC\\\\Desktop\\\\saqlain_csv\\\\height1.csv\")"
      ],
      "execution_count": null,
      "outputs": []
    },
    {
      "cell_type": "code",
      "metadata": {
        "id": "RxY0OZuDo1H-",
        "outputId": "1a6afd49-085e-4e7e-8c84-55ec1de42705"
      },
      "source": [
        "df.head()"
      ],
      "execution_count": null,
      "outputs": [
        {
          "output_type": "execute_result",
          "data": {
            "text/html": [
              "<div>\n",
              "<style scoped>\n",
              "    .dataframe tbody tr th:only-of-type {\n",
              "        vertical-align: middle;\n",
              "    }\n",
              "\n",
              "    .dataframe tbody tr th {\n",
              "        vertical-align: top;\n",
              "    }\n",
              "\n",
              "    .dataframe thead th {\n",
              "        text-align: right;\n",
              "    }\n",
              "</style>\n",
              "<table border=\"1\" class=\"dataframe\">\n",
              "  <thead>\n",
              "    <tr style=\"text-align: right;\">\n",
              "      <th></th>\n",
              "      <th>Gender</th>\n",
              "      <th>Height</th>\n",
              "    </tr>\n",
              "  </thead>\n",
              "  <tbody>\n",
              "    <tr>\n",
              "      <th>0</th>\n",
              "      <td>Male</td>\n",
              "      <td>73.847017</td>\n",
              "    </tr>\n",
              "    <tr>\n",
              "      <th>1</th>\n",
              "      <td>Male</td>\n",
              "      <td>68.781904</td>\n",
              "    </tr>\n",
              "    <tr>\n",
              "      <th>2</th>\n",
              "      <td>Male</td>\n",
              "      <td>74.110105</td>\n",
              "    </tr>\n",
              "    <tr>\n",
              "      <th>3</th>\n",
              "      <td>Male</td>\n",
              "      <td>71.730978</td>\n",
              "    </tr>\n",
              "    <tr>\n",
              "      <th>4</th>\n",
              "      <td>Male</td>\n",
              "      <td>69.881796</td>\n",
              "    </tr>\n",
              "  </tbody>\n",
              "</table>\n",
              "</div>"
            ],
            "text/plain": [
              "  Gender     Height\n",
              "0   Male  73.847017\n",
              "1   Male  68.781904\n",
              "2   Male  74.110105\n",
              "3   Male  71.730978\n",
              "4   Male  69.881796"
            ]
          },
          "metadata": {
            "tags": []
          },
          "execution_count": 12
        }
      ]
    },
    {
      "cell_type": "code",
      "metadata": {
        "id": "Nb4Rh_Q5o1IA",
        "outputId": "f956a234-9f7c-4fc9-c672-a2bc91333c8a"
      },
      "source": [
        "plt.hist(df.Height,bins=20,rwidth=0.8)\n",
        "plt.ylabel(\"height\")\n",
        "plt.xlabel(\"count\")"
      ],
      "execution_count": null,
      "outputs": [
        {
          "output_type": "execute_result",
          "data": {
            "text/plain": [
              "Text(0.5, 0, 'count')"
            ]
          },
          "metadata": {
            "tags": []
          },
          "execution_count": 14
        },
        {
          "output_type": "display_data",
          "data": {
            "image/png": "[encoded data removed]",
            "text/plain": [
              "<Figure size 432x288 with 1 Axes>"
            ]
          },
          "metadata": {
            "tags": [],
            "needs_background": "light"
          }
        }
      ]
    },
    {
      "cell_type": "code",
      "metadata": {
        "id": "F2hUmAzOo1IC",
        "outputId": "b9af6863-cac0-4be9-e82f-aaf846e7ccc3"
      },
      "source": [
        "df.describe()"
      ],
      "execution_count": null,
      "outputs": [
        {
          "output_type": "execute_result",
          "data": {
            "text/html": [
              "<div>\n",
              "<style scoped>\n",
              "    .dataframe tbody tr th:only-of-type {\n",
              "        vertical-align: middle;\n",
              "    }\n",
              "\n",
              "    .dataframe tbody tr th {\n",
              "        vertical-align: top;\n",
              "    }\n",
              "\n",
              "    .dataframe thead th {\n",
              "        text-align: right;\n",
              "    }\n",
              "</style>\n",
              "<table border=\"1\" class=\"dataframe\">\n",
              "  <thead>\n",
              "    <tr style=\"text-align: right;\">\n",
              "      <th></th>\n",
              "      <th>Height</th>\n",
              "    </tr>\n",
              "  </thead>\n",
              "  <tbody>\n",
              "    <tr>\n",
              "      <th>count</th>\n",
              "      <td>10000.000000</td>\n",
              "    </tr>\n",
              "    <tr>\n",
              "      <th>mean</th>\n",
              "      <td>66.367560</td>\n",
              "    </tr>\n",
              "    <tr>\n",
              "      <th>std</th>\n",
              "      <td>3.847528</td>\n",
              "    </tr>\n",
              "    <tr>\n",
              "      <th>min</th>\n",
              "      <td>54.263133</td>\n",
              "    </tr>\n",
              "    <tr>\n",
              "      <th>25%</th>\n",
              "      <td>63.505620</td>\n",
              "    </tr>\n",
              "    <tr>\n",
              "      <th>50%</th>\n",
              "      <td>66.318070</td>\n",
              "    </tr>\n",
              "    <tr>\n",
              "      <th>75%</th>\n",
              "      <td>69.174262</td>\n",
              "    </tr>\n",
              "    <tr>\n",
              "      <th>max</th>\n",
              "      <td>78.998742</td>\n",
              "    </tr>\n",
              "  </tbody>\n",
              "</table>\n",
              "</div>"
            ],
            "text/plain": [
              "             Height\n",
              "count  10000.000000\n",
              "mean      66.367560\n",
              "std        3.847528\n",
              "min       54.263133\n",
              "25%       63.505620\n",
              "50%       66.318070\n",
              "75%       69.174262\n",
              "max       78.998742"
            ]
          },
          "metadata": {
            "tags": []
          },
          "execution_count": 16
        }
      ]
    },
    {
      "cell_type": "code",
      "metadata": {
        "id": "rVfelDITo1IC",
        "outputId": "cea4eb98-c29f-426f-e1df-c71bb6e33fef"
      },
      "source": [
        "#plotting guassian curve\n",
        "from scipy.stats import norm\n",
        "\n",
        " \n",
        "rng = np.arange(df.Height.min(),df.Height.max(),0.1)\n",
        "plt.plot(rng,norm.pdf(rng,df.Height.mean(),df.Height.std()))"
      ],
      "execution_count": null,
      "outputs": [
        {
          "output_type": "execute_result",
          "data": {
            "text/plain": [
              "[<matplotlib.lines.Line2D at 0xb2c41caa00>]"
            ]
          },
          "metadata": {
            "tags": []
          },
          "execution_count": 21
        },
        {
          "output_type": "display_data",
          "data": {
            "image/png": "[encoded data removed]",
            "text/plain": [
              "<Figure size 432x288 with 1 Axes>"
            ]
          },
          "metadata": {
            "tags": [],
            "needs_background": "light"
          }
        }
      ]
    },
    {
      "cell_type": "code",
      "metadata": {
        "id": "3e8ukKa-o1ID",
        "outputId": "12b58807-8d02-4b91-9186-18d19f3330df"
      },
      "source": [
        "df.Height.min()"
      ],
      "execution_count": null,
      "outputs": [
        {
          "output_type": "execute_result",
          "data": {
            "text/plain": [
              "54.26313333"
            ]
          },
          "metadata": {
            "tags": []
          },
          "execution_count": 24
        }
      ]
    },
    {
      "cell_type": "code",
      "metadata": {
        "id": "wZGH78v2o1IE",
        "outputId": "da645318-d2af-4bcf-9e86-24739c1f1dff"
      },
      "source": [
        "df.Height.mean()"
      ],
      "execution_count": null,
      "outputs": [
        {
          "output_type": "execute_result",
          "data": {
            "text/plain": [
              "66.3675597548656"
            ]
          },
          "metadata": {
            "tags": []
          },
          "execution_count": 25
        }
      ]
    },
    {
      "cell_type": "code",
      "metadata": {
        "id": "qlHC7Y26o1IF",
        "outputId": "1c70550f-ca85-4f01-a9a9-ca92b69fbce8"
      },
      "source": [
        "df.Height.std()"
      ],
      "execution_count": null,
      "outputs": [
        {
          "output_type": "execute_result",
          "data": {
            "text/plain": [
              "3.847528120795573"
            ]
          },
          "metadata": {
            "tags": []
          },
          "execution_count": 26
        }
      ]
    },
    {
      "cell_type": "code",
      "metadata": {
        "id": "JCAVcFKpo1IF"
      },
      "source": [
        "#will remove all outlier above 3 std deviasion because if distribution follow ,\n",
        "#normal dist the 68% data will in 1st dev , 94% data will be in 2nd dev and 99% in 3rd std devb"
      ],
      "execution_count": null,
      "outputs": []
    },
    {
      "cell_type": "code",
      "metadata": {
        "id": "LWgezpeSo1IG",
        "outputId": "5385d43c-54b0-4e09-e9da-87197f9bc66d"
      },
      "source": [
        "# its like \"u+3sigma\"\n",
        "upper_limit = df.Height.mean() + 3*df.Height.std()\n",
        "upper_limit"
      ],
      "execution_count": null,
      "outputs": [
        {
          "output_type": "execute_result",
          "data": {
            "text/plain": [
              "77.91014411725232"
            ]
          },
          "metadata": {
            "tags": []
          },
          "execution_count": 35
        }
      ]
    },
    {
      "cell_type": "code",
      "metadata": {
        "id": "VMCrwkSmo1IG",
        "outputId": "5894cf07-831f-4162-9b55-af566747b872"
      },
      "source": [
        "# its like \"u+3sigma\"\n",
        "lower_limit = df.Height.mean() - 3*df.Height.std()\n",
        "lower_limit"
      ],
      "execution_count": null,
      "outputs": [
        {
          "output_type": "execute_result",
          "data": {
            "text/plain": [
              "54.824975392478876"
            ]
          },
          "metadata": {
            "tags": []
          },
          "execution_count": 34
        }
      ]
    },
    {
      "cell_type": "code",
      "metadata": {
        "id": "CP7vhcEeo1IH",
        "outputId": "b4b3876a-d0c3-45f7-e46b-df8ec638c072"
      },
      "source": [
        "#now seeing the outlier \n",
        "df[(df.Height>upper_limit)|(df.Height<lower_limit)]\n"
      ],
      "execution_count": null,
      "outputs": [
        {
          "output_type": "execute_result",
          "data": {
            "text/html": [
              "<div>\n",
              "<style scoped>\n",
              "    .dataframe tbody tr th:only-of-type {\n",
              "        vertical-align: middle;\n",
              "    }\n",
              "\n",
              "    .dataframe tbody tr th {\n",
              "        vertical-align: top;\n",
              "    }\n",
              "\n",
              "    .dataframe thead th {\n",
              "        text-align: right;\n",
              "    }\n",
              "</style>\n",
              "<table border=\"1\" class=\"dataframe\">\n",
              "  <thead>\n",
              "    <tr style=\"text-align: right;\">\n",
              "      <th></th>\n",
              "      <th>Gender</th>\n",
              "      <th>Height</th>\n",
              "    </tr>\n",
              "  </thead>\n",
              "  <tbody>\n",
              "    <tr>\n",
              "      <th>994</th>\n",
              "      <td>Male</td>\n",
              "      <td>78.095867</td>\n",
              "    </tr>\n",
              "    <tr>\n",
              "      <th>1317</th>\n",
              "      <td>Male</td>\n",
              "      <td>78.462053</td>\n",
              "    </tr>\n",
              "    <tr>\n",
              "      <th>2014</th>\n",
              "      <td>Male</td>\n",
              "      <td>78.998742</td>\n",
              "    </tr>\n",
              "    <tr>\n",
              "      <th>3285</th>\n",
              "      <td>Male</td>\n",
              "      <td>78.528210</td>\n",
              "    </tr>\n",
              "    <tr>\n",
              "      <th>3757</th>\n",
              "      <td>Male</td>\n",
              "      <td>78.621374</td>\n",
              "    </tr>\n",
              "    <tr>\n",
              "      <th>6624</th>\n",
              "      <td>Female</td>\n",
              "      <td>54.616858</td>\n",
              "    </tr>\n",
              "    <tr>\n",
              "      <th>9285</th>\n",
              "      <td>Female</td>\n",
              "      <td>54.263133</td>\n",
              "    </tr>\n",
              "  </tbody>\n",
              "</table>\n",
              "</div>"
            ],
            "text/plain": [
              "      Gender     Height\n",
              "994     Male  78.095867\n",
              "1317    Male  78.462053\n",
              "2014    Male  78.998742\n",
              "3285    Male  78.528210\n",
              "3757    Male  78.621374\n",
              "6624  Female  54.616858\n",
              "9285  Female  54.263133"
            ]
          },
          "metadata": {
            "tags": []
          },
          "execution_count": 31
        }
      ]
    },
    {
      "cell_type": "code",
      "metadata": {
        "scrolled": true,
        "id": "vpsIhQi2o1II",
        "outputId": "777f9d05-fd28-43bf-ac48-5652417b4966"
      },
      "source": [
        "#df with removal of outlier\n",
        "df_with_no_outlier = df[(df.Height<upper_limit) & (df.Height>lower_limit)]\n",
        "\n",
        "df_with_no_outlier "
      ],
      "execution_count": null,
      "outputs": [
        {
          "output_type": "execute_result",
          "data": {
            "text/html": [
              "<div>\n",
              "<style scoped>\n",
              "    .dataframe tbody tr th:only-of-type {\n",
              "        vertical-align: middle;\n",
              "    }\n",
              "\n",
              "    .dataframe tbody tr th {\n",
              "        vertical-align: top;\n",
              "    }\n",
              "\n",
              "    .dataframe thead th {\n",
              "        text-align: right;\n",
              "    }\n",
              "</style>\n",
              "<table border=\"1\" class=\"dataframe\">\n",
              "  <thead>\n",
              "    <tr style=\"text-align: right;\">\n",
              "      <th></th>\n",
              "      <th>Gender</th>\n",
              "      <th>Height</th>\n",
              "    </tr>\n",
              "  </thead>\n",
              "  <tbody>\n",
              "    <tr>\n",
              "      <th>0</th>\n",
              "      <td>Male</td>\n",
              "      <td>73.847017</td>\n",
              "    </tr>\n",
              "    <tr>\n",
              "      <th>1</th>\n",
              "      <td>Male</td>\n",
              "      <td>68.781904</td>\n",
              "    </tr>\n",
              "    <tr>\n",
              "      <th>2</th>\n",
              "      <td>Male</td>\n",
              "      <td>74.110105</td>\n",
              "    </tr>\n",
              "    <tr>\n",
              "      <th>3</th>\n",
              "      <td>Male</td>\n",
              "      <td>71.730978</td>\n",
              "    </tr>\n",
              "    <tr>\n",
              "      <th>4</th>\n",
              "      <td>Male</td>\n",
              "      <td>69.881796</td>\n",
              "    </tr>\n",
              "    <tr>\n",
              "      <th>...</th>\n",
              "      <td>...</td>\n",
              "      <td>...</td>\n",
              "    </tr>\n",
              "    <tr>\n",
              "      <th>9995</th>\n",
              "      <td>Female</td>\n",
              "      <td>66.172652</td>\n",
              "    </tr>\n",
              "    <tr>\n",
              "      <th>9996</th>\n",
              "      <td>Female</td>\n",
              "      <td>67.067155</td>\n",
              "    </tr>\n",
              "    <tr>\n",
              "      <th>9997</th>\n",
              "      <td>Female</td>\n",
              "      <td>63.867992</td>\n",
              "    </tr>\n",
              "    <tr>\n",
              "      <th>9998</th>\n",
              "      <td>Female</td>\n",
              "      <td>69.034243</td>\n",
              "    </tr>\n",
              "    <tr>\n",
              "      <th>9999</th>\n",
              "      <td>Female</td>\n",
              "      <td>61.944246</td>\n",
              "    </tr>\n",
              "  </tbody>\n",
              "</table>\n",
              "<p>9993 rows × 2 columns</p>\n",
              "</div>"
            ],
            "text/plain": [
              "      Gender     Height\n",
              "0       Male  73.847017\n",
              "1       Male  68.781904\n",
              "2       Male  74.110105\n",
              "3       Male  71.730978\n",
              "4       Male  69.881796\n",
              "...      ...        ...\n",
              "9995  Female  66.172652\n",
              "9996  Female  67.067155\n",
              "9997  Female  63.867992\n",
              "9998  Female  69.034243\n",
              "9999  Female  61.944246\n",
              "\n",
              "[9993 rows x 2 columns]"
            ]
          },
          "metadata": {
            "tags": []
          },
          "execution_count": 36
        }
      ]
    },
    {
      "cell_type": "code",
      "metadata": {
        "id": "7JbEvAIEo1II"
      },
      "source": [
        " #removal of outlier using Z-SCORE   \n",
        "    #   z = (x-μ)/σ\n",
        "    # zscore = 3 then its 3std dev that is 99% lies between it"
      ],
      "execution_count": null,
      "outputs": []
    },
    {
      "cell_type": "code",
      "metadata": {
        "scrolled": true,
        "id": "BaSX_Hwvo1IJ"
      },
      "source": [
        "df[\"zscore\"] = ((df.Height - df.Height.mean())/(df.Height.std()))\n",
        "df\n",
        "df.drop([\"z-score\"],axis='columns', inplace=True)"
      ],
      "execution_count": null,
      "outputs": []
    },
    {
      "cell_type": "code",
      "metadata": {
        "id": "s5Kr4w_qo1IJ",
        "outputId": "171b7569-0c10-4542-fd33-226b976e7d05"
      },
      "source": [
        "df[df['zscore']>3]"
      ],
      "execution_count": null,
      "outputs": [
        {
          "output_type": "execute_result",
          "data": {
            "text/html": [
              "<div>\n",
              "<style scoped>\n",
              "    .dataframe tbody tr th:only-of-type {\n",
              "        vertical-align: middle;\n",
              "    }\n",
              "\n",
              "    .dataframe tbody tr th {\n",
              "        vertical-align: top;\n",
              "    }\n",
              "\n",
              "    .dataframe thead th {\n",
              "        text-align: right;\n",
              "    }\n",
              "</style>\n",
              "<table border=\"1\" class=\"dataframe\">\n",
              "  <thead>\n",
              "    <tr style=\"text-align: right;\">\n",
              "      <th></th>\n",
              "      <th>Gender</th>\n",
              "      <th>Height</th>\n",
              "      <th>zscore</th>\n",
              "    </tr>\n",
              "  </thead>\n",
              "  <tbody>\n",
              "    <tr>\n",
              "      <th>994</th>\n",
              "      <td>Male</td>\n",
              "      <td>78.095867</td>\n",
              "      <td>3.048271</td>\n",
              "    </tr>\n",
              "    <tr>\n",
              "      <th>1317</th>\n",
              "      <td>Male</td>\n",
              "      <td>78.462053</td>\n",
              "      <td>3.143445</td>\n",
              "    </tr>\n",
              "    <tr>\n",
              "      <th>2014</th>\n",
              "      <td>Male</td>\n",
              "      <td>78.998742</td>\n",
              "      <td>3.282934</td>\n",
              "    </tr>\n",
              "    <tr>\n",
              "      <th>3285</th>\n",
              "      <td>Male</td>\n",
              "      <td>78.528210</td>\n",
              "      <td>3.160640</td>\n",
              "    </tr>\n",
              "    <tr>\n",
              "      <th>3757</th>\n",
              "      <td>Male</td>\n",
              "      <td>78.621374</td>\n",
              "      <td>3.184854</td>\n",
              "    </tr>\n",
              "  </tbody>\n",
              "</table>\n",
              "</div>"
            ],
            "text/plain": [
              "     Gender     Height    zscore\n",
              "994    Male  78.095867  3.048271\n",
              "1317   Male  78.462053  3.143445\n",
              "2014   Male  78.998742  3.282934\n",
              "3285   Male  78.528210  3.160640\n",
              "3757   Male  78.621374  3.184854"
            ]
          },
          "metadata": {
            "tags": []
          },
          "execution_count": 68
        }
      ]
    },
    {
      "cell_type": "code",
      "metadata": {
        "id": "ewZDMLGio1IK",
        "outputId": "7651d080-9a1b-4ec4-b89d-515fb0ac5cf0"
      },
      "source": [
        "df[df['zscore']<-3]"
      ],
      "execution_count": null,
      "outputs": [
        {
          "output_type": "execute_result",
          "data": {
            "text/html": [
              "<div>\n",
              "<style scoped>\n",
              "    .dataframe tbody tr th:only-of-type {\n",
              "        vertical-align: middle;\n",
              "    }\n",
              "\n",
              "    .dataframe tbody tr th {\n",
              "        vertical-align: top;\n",
              "    }\n",
              "\n",
              "    .dataframe thead th {\n",
              "        text-align: right;\n",
              "    }\n",
              "</style>\n",
              "<table border=\"1\" class=\"dataframe\">\n",
              "  <thead>\n",
              "    <tr style=\"text-align: right;\">\n",
              "      <th></th>\n",
              "      <th>Gender</th>\n",
              "      <th>Height</th>\n",
              "      <th>zscore</th>\n",
              "    </tr>\n",
              "  </thead>\n",
              "  <tbody>\n",
              "    <tr>\n",
              "      <th>6624</th>\n",
              "      <td>Female</td>\n",
              "      <td>54.616858</td>\n",
              "      <td>-3.054091</td>\n",
              "    </tr>\n",
              "    <tr>\n",
              "      <th>9285</th>\n",
              "      <td>Female</td>\n",
              "      <td>54.263133</td>\n",
              "      <td>-3.146027</td>\n",
              "    </tr>\n",
              "  </tbody>\n",
              "</table>\n",
              "</div>"
            ],
            "text/plain": [
              "      Gender     Height    zscore\n",
              "6624  Female  54.616858 -3.054091\n",
              "9285  Female  54.263133 -3.146027"
            ]
          },
          "metadata": {
            "tags": []
          },
          "execution_count": 69
        }
      ]
    },
    {
      "cell_type": "code",
      "metadata": {
        "id": "xmaLNC98o1IK",
        "outputId": "0be32a1a-ea95-4067-b6c2-e939768088ab"
      },
      "source": [
        "df[(df.zscore>3)|(df.zscore<-3)]"
      ],
      "execution_count": null,
      "outputs": [
        {
          "output_type": "execute_result",
          "data": {
            "text/html": [
              "<div>\n",
              "<style scoped>\n",
              "    .dataframe tbody tr th:only-of-type {\n",
              "        vertical-align: middle;\n",
              "    }\n",
              "\n",
              "    .dataframe tbody tr th {\n",
              "        vertical-align: top;\n",
              "    }\n",
              "\n",
              "    .dataframe thead th {\n",
              "        text-align: right;\n",
              "    }\n",
              "</style>\n",
              "<table border=\"1\" class=\"dataframe\">\n",
              "  <thead>\n",
              "    <tr style=\"text-align: right;\">\n",
              "      <th></th>\n",
              "      <th>Gender</th>\n",
              "      <th>Height</th>\n",
              "      <th>zscore</th>\n",
              "    </tr>\n",
              "  </thead>\n",
              "  <tbody>\n",
              "    <tr>\n",
              "      <th>994</th>\n",
              "      <td>Male</td>\n",
              "      <td>78.095867</td>\n",
              "      <td>3.048271</td>\n",
              "    </tr>\n",
              "    <tr>\n",
              "      <th>1317</th>\n",
              "      <td>Male</td>\n",
              "      <td>78.462053</td>\n",
              "      <td>3.143445</td>\n",
              "    </tr>\n",
              "    <tr>\n",
              "      <th>2014</th>\n",
              "      <td>Male</td>\n",
              "      <td>78.998742</td>\n",
              "      <td>3.282934</td>\n",
              "    </tr>\n",
              "    <tr>\n",
              "      <th>3285</th>\n",
              "      <td>Male</td>\n",
              "      <td>78.528210</td>\n",
              "      <td>3.160640</td>\n",
              "    </tr>\n",
              "    <tr>\n",
              "      <th>3757</th>\n",
              "      <td>Male</td>\n",
              "      <td>78.621374</td>\n",
              "      <td>3.184854</td>\n",
              "    </tr>\n",
              "    <tr>\n",
              "      <th>6624</th>\n",
              "      <td>Female</td>\n",
              "      <td>54.616858</td>\n",
              "      <td>-3.054091</td>\n",
              "    </tr>\n",
              "    <tr>\n",
              "      <th>9285</th>\n",
              "      <td>Female</td>\n",
              "      <td>54.263133</td>\n",
              "      <td>-3.146027</td>\n",
              "    </tr>\n",
              "  </tbody>\n",
              "</table>\n",
              "</div>"
            ],
            "text/plain": [
              "      Gender     Height    zscore\n",
              "994     Male  78.095867  3.048271\n",
              "1317    Male  78.462053  3.143445\n",
              "2014    Male  78.998742  3.282934\n",
              "3285    Male  78.528210  3.160640\n",
              "3757    Male  78.621374  3.184854\n",
              "6624  Female  54.616858 -3.054091\n",
              "9285  Female  54.263133 -3.146027"
            ]
          },
          "metadata": {
            "tags": []
          },
          "execution_count": 70
        }
      ]
    },
    {
      "cell_type": "code",
      "metadata": {
        "id": "KTzaSHp9o1IL",
        "outputId": "a5b646a7-81e3-4d17-b52a-049ec11071ba"
      },
      "source": [
        "df_with_no_outlier_usin_z_score = df[(df.zscore<3)&(df.zscore>-3)]\n",
        "df_with_no_outlier_usin_z_score "
      ],
      "execution_count": null,
      "outputs": [
        {
          "output_type": "execute_result",
          "data": {
            "text/html": [
              "<div>\n",
              "<style scoped>\n",
              "    .dataframe tbody tr th:only-of-type {\n",
              "        vertical-align: middle;\n",
              "    }\n",
              "\n",
              "    .dataframe tbody tr th {\n",
              "        vertical-align: top;\n",
              "    }\n",
              "\n",
              "    .dataframe thead th {\n",
              "        text-align: right;\n",
              "    }\n",
              "</style>\n",
              "<table border=\"1\" class=\"dataframe\">\n",
              "  <thead>\n",
              "    <tr style=\"text-align: right;\">\n",
              "      <th></th>\n",
              "      <th>Gender</th>\n",
              "      <th>Height</th>\n",
              "      <th>zscore</th>\n",
              "    </tr>\n",
              "  </thead>\n",
              "  <tbody>\n",
              "    <tr>\n",
              "      <th>0</th>\n",
              "      <td>Male</td>\n",
              "      <td>73.847017</td>\n",
              "      <td>1.943964</td>\n",
              "    </tr>\n",
              "    <tr>\n",
              "      <th>1</th>\n",
              "      <td>Male</td>\n",
              "      <td>68.781904</td>\n",
              "      <td>0.627505</td>\n",
              "    </tr>\n",
              "    <tr>\n",
              "      <th>2</th>\n",
              "      <td>Male</td>\n",
              "      <td>74.110105</td>\n",
              "      <td>2.012343</td>\n",
              "    </tr>\n",
              "    <tr>\n",
              "      <th>3</th>\n",
              "      <td>Male</td>\n",
              "      <td>71.730978</td>\n",
              "      <td>1.393991</td>\n",
              "    </tr>\n",
              "    <tr>\n",
              "      <th>4</th>\n",
              "      <td>Male</td>\n",
              "      <td>69.881796</td>\n",
              "      <td>0.913375</td>\n",
              "    </tr>\n",
              "    <tr>\n",
              "      <th>...</th>\n",
              "      <td>...</td>\n",
              "      <td>...</td>\n",
              "      <td>...</td>\n",
              "    </tr>\n",
              "    <tr>\n",
              "      <th>9995</th>\n",
              "      <td>Female</td>\n",
              "      <td>66.172652</td>\n",
              "      <td>-0.050658</td>\n",
              "    </tr>\n",
              "    <tr>\n",
              "      <th>9996</th>\n",
              "      <td>Female</td>\n",
              "      <td>67.067155</td>\n",
              "      <td>0.181830</td>\n",
              "    </tr>\n",
              "    <tr>\n",
              "      <th>9997</th>\n",
              "      <td>Female</td>\n",
              "      <td>63.867992</td>\n",
              "      <td>-0.649655</td>\n",
              "    </tr>\n",
              "    <tr>\n",
              "      <th>9998</th>\n",
              "      <td>Female</td>\n",
              "      <td>69.034243</td>\n",
              "      <td>0.693090</td>\n",
              "    </tr>\n",
              "    <tr>\n",
              "      <th>9999</th>\n",
              "      <td>Female</td>\n",
              "      <td>61.944246</td>\n",
              "      <td>-1.149651</td>\n",
              "    </tr>\n",
              "  </tbody>\n",
              "</table>\n",
              "<p>9993 rows × 3 columns</p>\n",
              "</div>"
            ],
            "text/plain": [
              "      Gender     Height    zscore\n",
              "0       Male  73.847017  1.943964\n",
              "1       Male  68.781904  0.627505\n",
              "2       Male  74.110105  2.012343\n",
              "3       Male  71.730978  1.393991\n",
              "4       Male  69.881796  0.913375\n",
              "...      ...        ...       ...\n",
              "9995  Female  66.172652 -0.050658\n",
              "9996  Female  67.067155  0.181830\n",
              "9997  Female  63.867992 -0.649655\n",
              "9998  Female  69.034243  0.693090\n",
              "9999  Female  61.944246 -1.149651\n",
              "\n",
              "[9993 rows x 3 columns]"
            ]
          },
          "metadata": {
            "tags": []
          },
          "execution_count": 72
        }
      ]
    },
    {
      "cell_type": "code",
      "metadata": {
        "id": "YY7Lrzh3o1IL"
      },
      "source": [
        "#removal of outlier using percentile"
      ],
      "execution_count": null,
      "outputs": []
    },
    {
      "cell_type": "code",
      "metadata": {
        "id": "rSgHVaxxo1IM",
        "outputId": "cd8d0f58-05cc-4dc0-80d7-e034ac3dfef9"
      },
      "source": [
        "maxthreshold = df[\"Height\"].quantile(0.999)\n",
        "maxthreshold"
      ],
      "execution_count": null,
      "outputs": [
        {
          "output_type": "execute_result",
          "data": {
            "text/plain": [
              "77.06738853708"
            ]
          },
          "metadata": {
            "tags": []
          },
          "execution_count": 151
        }
      ]
    },
    {
      "cell_type": "code",
      "metadata": {
        "scrolled": true,
        "id": "zKhUI9i5o1IM",
        "outputId": "2665920a-da6c-40fe-fb9e-2c5798b4928b"
      },
      "source": [
        "df[df[\"Height\"]>maxthreshold]"
      ],
      "execution_count": null,
      "outputs": [
        {
          "output_type": "execute_result",
          "data": {
            "text/html": [
              "<div>\n",
              "<style scoped>\n",
              "    .dataframe tbody tr th:only-of-type {\n",
              "        vertical-align: middle;\n",
              "    }\n",
              "\n",
              "    .dataframe tbody tr th {\n",
              "        vertical-align: top;\n",
              "    }\n",
              "\n",
              "    .dataframe thead th {\n",
              "        text-align: right;\n",
              "    }\n",
              "</style>\n",
              "<table border=\"1\" class=\"dataframe\">\n",
              "  <thead>\n",
              "    <tr style=\"text-align: right;\">\n",
              "      <th></th>\n",
              "      <th>Gender</th>\n",
              "      <th>Height</th>\n",
              "      <th>zscore</th>\n",
              "    </tr>\n",
              "  </thead>\n",
              "  <tbody>\n",
              "    <tr>\n",
              "      <th>23</th>\n",
              "      <td>Male</td>\n",
              "      <td>75.205974</td>\n",
              "      <td>2.297167</td>\n",
              "    </tr>\n",
              "    <tr>\n",
              "      <th>190</th>\n",
              "      <td>Male</td>\n",
              "      <td>76.709835</td>\n",
              "      <td>2.688031</td>\n",
              "    </tr>\n",
              "    <tr>\n",
              "      <th>197</th>\n",
              "      <td>Male</td>\n",
              "      <td>75.944460</td>\n",
              "      <td>2.489105</td>\n",
              "    </tr>\n",
              "    <tr>\n",
              "      <th>202</th>\n",
              "      <td>Male</td>\n",
              "      <td>75.140821</td>\n",
              "      <td>2.280233</td>\n",
              "    </tr>\n",
              "    <tr>\n",
              "      <th>215</th>\n",
              "      <td>Male</td>\n",
              "      <td>74.795375</td>\n",
              "      <td>2.190449</td>\n",
              "    </tr>\n",
              "    <tr>\n",
              "      <th>...</th>\n",
              "      <td>...</td>\n",
              "      <td>...</td>\n",
              "      <td>...</td>\n",
              "    </tr>\n",
              "    <tr>\n",
              "      <th>4565</th>\n",
              "      <td>Male</td>\n",
              "      <td>75.690384</td>\n",
              "      <td>2.423068</td>\n",
              "    </tr>\n",
              "    <tr>\n",
              "      <th>4569</th>\n",
              "      <td>Male</td>\n",
              "      <td>77.547186</td>\n",
              "      <td>2.905665</td>\n",
              "    </tr>\n",
              "    <tr>\n",
              "      <th>4701</th>\n",
              "      <td>Male</td>\n",
              "      <td>76.732446</td>\n",
              "      <td>2.693908</td>\n",
              "    </tr>\n",
              "    <tr>\n",
              "      <th>4721</th>\n",
              "      <td>Male</td>\n",
              "      <td>75.330847</td>\n",
              "      <td>2.329622</td>\n",
              "    </tr>\n",
              "    <tr>\n",
              "      <th>4825</th>\n",
              "      <td>Male</td>\n",
              "      <td>74.975231</td>\n",
              "      <td>2.237195</td>\n",
              "    </tr>\n",
              "  </tbody>\n",
              "</table>\n",
              "<p>100 rows × 3 columns</p>\n",
              "</div>"
            ],
            "text/plain": [
              "     Gender     Height    zscore\n",
              "23     Male  75.205974  2.297167\n",
              "190    Male  76.709835  2.688031\n",
              "197    Male  75.944460  2.489105\n",
              "202    Male  75.140821  2.280233\n",
              "215    Male  74.795375  2.190449\n",
              "...     ...        ...       ...\n",
              "4565   Male  75.690384  2.423068\n",
              "4569   Male  77.547186  2.905665\n",
              "4701   Male  76.732446  2.693908\n",
              "4721   Male  75.330847  2.329622\n",
              "4825   Male  74.975231  2.237195\n",
              "\n",
              "[100 rows x 3 columns]"
            ]
          },
          "metadata": {
            "tags": []
          },
          "execution_count": 79
        }
      ]
    },
    {
      "cell_type": "code",
      "metadata": {
        "id": "bHdc-_QXo1IN",
        "outputId": "a389e2e8-e69e-4277-aba6-690d27774d8e"
      },
      "source": [
        "minthreshold = df[\"Height\"].quantile(0.001)\n",
        "minthreshold"
      ],
      "execution_count": null,
      "outputs": [
        {
          "output_type": "execute_result",
          "data": {
            "text/plain": [
              "56.066548911530006"
            ]
          },
          "metadata": {
            "tags": []
          },
          "execution_count": 152
        }
      ]
    },
    {
      "cell_type": "code",
      "metadata": {
        "scrolled": true,
        "id": "IGa-ve5po1IN",
        "outputId": "55221493-1b5b-4e5b-f13a-965c5467240b"
      },
      "source": [
        "df3 = df[(df.Height>minthreshold)&(df.Height<maxthreshold)]\n",
        "df3"
      ],
      "execution_count": null,
      "outputs": [
        {
          "output_type": "execute_result",
          "data": {
            "text/html": [
              "<div>\n",
              "<style scoped>\n",
              "    .dataframe tbody tr th:only-of-type {\n",
              "        vertical-align: middle;\n",
              "    }\n",
              "\n",
              "    .dataframe tbody tr th {\n",
              "        vertical-align: top;\n",
              "    }\n",
              "\n",
              "    .dataframe thead th {\n",
              "        text-align: right;\n",
              "    }\n",
              "</style>\n",
              "<table border=\"1\" class=\"dataframe\">\n",
              "  <thead>\n",
              "    <tr style=\"text-align: right;\">\n",
              "      <th></th>\n",
              "      <th>Gender</th>\n",
              "      <th>Height</th>\n",
              "    </tr>\n",
              "  </thead>\n",
              "  <tbody>\n",
              "    <tr>\n",
              "      <th>0</th>\n",
              "      <td>Male</td>\n",
              "      <td>73.847017</td>\n",
              "    </tr>\n",
              "    <tr>\n",
              "      <th>1</th>\n",
              "      <td>Male</td>\n",
              "      <td>68.781904</td>\n",
              "    </tr>\n",
              "    <tr>\n",
              "      <th>2</th>\n",
              "      <td>Male</td>\n",
              "      <td>74.110105</td>\n",
              "    </tr>\n",
              "    <tr>\n",
              "      <th>3</th>\n",
              "      <td>Male</td>\n",
              "      <td>71.730978</td>\n",
              "    </tr>\n",
              "    <tr>\n",
              "      <th>4</th>\n",
              "      <td>Male</td>\n",
              "      <td>69.881796</td>\n",
              "    </tr>\n",
              "    <tr>\n",
              "      <th>...</th>\n",
              "      <td>...</td>\n",
              "      <td>...</td>\n",
              "    </tr>\n",
              "    <tr>\n",
              "      <th>9995</th>\n",
              "      <td>Female</td>\n",
              "      <td>66.172652</td>\n",
              "    </tr>\n",
              "    <tr>\n",
              "      <th>9996</th>\n",
              "      <td>Female</td>\n",
              "      <td>67.067155</td>\n",
              "    </tr>\n",
              "    <tr>\n",
              "      <th>9997</th>\n",
              "      <td>Female</td>\n",
              "      <td>63.867992</td>\n",
              "    </tr>\n",
              "    <tr>\n",
              "      <th>9998</th>\n",
              "      <td>Female</td>\n",
              "      <td>69.034243</td>\n",
              "    </tr>\n",
              "    <tr>\n",
              "      <th>9999</th>\n",
              "      <td>Female</td>\n",
              "      <td>61.944246</td>\n",
              "    </tr>\n",
              "  </tbody>\n",
              "</table>\n",
              "<p>9980 rows × 2 columns</p>\n",
              "</div>"
            ],
            "text/plain": [
              "      Gender     Height\n",
              "0       Male  73.847017\n",
              "1       Male  68.781904\n",
              "2       Male  74.110105\n",
              "3       Male  71.730978\n",
              "4       Male  69.881796\n",
              "...      ...        ...\n",
              "9995  Female  66.172652\n",
              "9996  Female  67.067155\n",
              "9997  Female  63.867992\n",
              "9998  Female  69.034243\n",
              "9999  Female  61.944246\n",
              "\n",
              "[9980 rows x 2 columns]"
            ]
          },
          "metadata": {
            "tags": []
          },
          "execution_count": 154
        }
      ]
    },
    {
      "cell_type": "code",
      "metadata": {
        "id": "S556FUIOo1IO"
      },
      "source": [
        "#now removing outlier using percentile on AIRBNB NEYWORK dataset"
      ],
      "execution_count": null,
      "outputs": []
    },
    {
      "cell_type": "code",
      "metadata": {
        "id": "YTrviSH1o1IO",
        "outputId": "2466f4f6-ff54-413c-a9df-e1b7fd58b536"
      },
      "source": [
        "df = pd.read_csv(\"C:\\\\Users\\\\SaifzWorld.Lenovo-PC\\\\Desktop\\\\saqlain_csv\\\\ab_nyc_2019.csv\")\n",
        "df.shape"
      ],
      "execution_count": null,
      "outputs": [
        {
          "output_type": "execute_result",
          "data": {
            "text/plain": [
              "(48895, 16)"
            ]
          },
          "metadata": {
            "tags": []
          },
          "execution_count": 140
        }
      ]
    },
    {
      "cell_type": "code",
      "metadata": {
        "id": "TGpSkT6uo1IP",
        "outputId": "4751e0f0-580e-404b-85b6-43710b35d3b6"
      },
      "source": [
        "df.price.describe()"
      ],
      "execution_count": null,
      "outputs": [
        {
          "output_type": "execute_result",
          "data": {
            "text/plain": [
              "count    48895.000000\n",
              "mean       152.720687\n",
              "std        240.154170\n",
              "min          0.000000\n",
              "25%         69.000000\n",
              "50%        106.000000\n",
              "75%        175.000000\n",
              "max      10000.000000\n",
              "Name: price, dtype: float64"
            ]
          },
          "metadata": {
            "tags": []
          },
          "execution_count": 141
        }
      ]
    },
    {
      "cell_type": "code",
      "metadata": {
        "id": "UOmKetpjo1IP",
        "outputId": "81814c36-9d95-4e7c-8323-6bb2585fcac0"
      },
      "source": [
        "minthreshold,maxthreeshold = df.price.quantile([0.01,0.99])\n",
        "minthreshold,maxthreeshold"
      ],
      "execution_count": null,
      "outputs": [
        {
          "output_type": "execute_result",
          "data": {
            "text/plain": [
              "(30.0, 799.0)"
            ]
          },
          "metadata": {
            "tags": []
          },
          "execution_count": 144
        }
      ]
    },
    {
      "cell_type": "code",
      "metadata": {
        "scrolled": true,
        "id": "MA7TBI-8o1IQ",
        "outputId": "f7c5175d-c51f-472b-8e8a-ca7935160c9f"
      },
      "source": [
        "df2 =df[(df.price>minthreshold)&(df.price<maxthreeshold)]\n",
        "df2.shape"
      ],
      "execution_count": null,
      "outputs": [
        {
          "output_type": "execute_result",
          "data": {
            "text/plain": [
              "(47744, 16)"
            ]
          },
          "metadata": {
            "tags": []
          },
          "execution_count": 145
        }
      ]
    },
    {
      "cell_type": "code",
      "metadata": {
        "id": "_n-uvcr0o1IQ",
        "outputId": "79effe4a-5ee9-455d-d226-52d001490b0b"
      },
      "source": [
        "df2.sample(10)"
      ],
      "execution_count": null,
      "outputs": [
        {
          "output_type": "execute_result",
          "data": {
            "text/html": [
              "<div>\n",
              "<style scoped>\n",
              "    .dataframe tbody tr th:only-of-type {\n",
              "        vertical-align: middle;\n",
              "    }\n",
              "\n",
              "    .dataframe tbody tr th {\n",
              "        vertical-align: top;\n",
              "    }\n",
              "\n",
              "    .dataframe thead th {\n",
              "        text-align: right;\n",
              "    }\n",
              "</style>\n",
              "<table border=\"1\" class=\"dataframe\">\n",
              "  <thead>\n",
              "    <tr style=\"text-align: right;\">\n",
              "      <th></th>\n",
              "      <th>id</th>\n",
              "      <th>name</th>\n",
              "      <th>host_id</th>\n",
              "      <th>host_name</th>\n",
              "      <th>neighbourhood_group</th>\n",
              "      <th>neighbourhood</th>\n",
              "      <th>latitude</th>\n",
              "      <th>longitude</th>\n",
              "      <th>room_type</th>\n",
              "      <th>price</th>\n",
              "      <th>minimum_nights</th>\n",
              "      <th>number_of_reviews</th>\n",
              "      <th>last_review</th>\n",
              "      <th>reviews_per_month</th>\n",
              "      <th>calculated_host_listings_count</th>\n",
              "      <th>availability_365</th>\n",
              "    </tr>\n",
              "  </thead>\n",
              "  <tbody>\n",
              "    <tr>\n",
              "      <th>5431</th>\n",
              "      <td>3928525</td>\n",
              "      <td>Stunning 2 bed 2bath Wall St. Luxury Apt</td>\n",
              "      <td>16101222</td>\n",
              "      <td>Andrew M.</td>\n",
              "      <td>Manhattan</td>\n",
              "      <td>Financial District</td>\n",
              "      <td>40.70563</td>\n",
              "      <td>-74.00878</td>\n",
              "      <td>Entire home/apt</td>\n",
              "      <td>275</td>\n",
              "      <td>3</td>\n",
              "      <td>9</td>\n",
              "      <td>2018-05-26</td>\n",
              "      <td>0.19</td>\n",
              "      <td>1</td>\n",
              "      <td>0</td>\n",
              "    </tr>\n",
              "    <tr>\n",
              "      <th>29271</th>\n",
              "      <td>22454765</td>\n",
              "      <td>Luxury studio in Astoria just by the water</td>\n",
              "      <td>13510515</td>\n",
              "      <td>Dimitri</td>\n",
              "      <td>Queens</td>\n",
              "      <td>Astoria</td>\n",
              "      <td>40.77179</td>\n",
              "      <td>-73.93442</td>\n",
              "      <td>Entire home/apt</td>\n",
              "      <td>200</td>\n",
              "      <td>4</td>\n",
              "      <td>0</td>\n",
              "      <td>NaN</td>\n",
              "      <td>NaN</td>\n",
              "      <td>1</td>\n",
              "      <td>0</td>\n",
              "    </tr>\n",
              "    <tr>\n",
              "      <th>42377</th>\n",
              "      <td>32890197</td>\n",
              "      <td>Brooklyn Room with 2 Chill Guys</td>\n",
              "      <td>175413</td>\n",
              "      <td>Angelo</td>\n",
              "      <td>Brooklyn</td>\n",
              "      <td>Bushwick</td>\n",
              "      <td>40.69835</td>\n",
              "      <td>-73.93258</td>\n",
              "      <td>Private room</td>\n",
              "      <td>33</td>\n",
              "      <td>2</td>\n",
              "      <td>3</td>\n",
              "      <td>2019-03-31</td>\n",
              "      <td>0.75</td>\n",
              "      <td>1</td>\n",
              "      <td>188</td>\n",
              "    </tr>\n",
              "    <tr>\n",
              "      <th>42552</th>\n",
              "      <td>33035945</td>\n",
              "      <td>Private hotel room in the heart of Times Square</td>\n",
              "      <td>4342052</td>\n",
              "      <td>Lea</td>\n",
              "      <td>Manhattan</td>\n",
              "      <td>Theater District</td>\n",
              "      <td>40.76089</td>\n",
              "      <td>-73.98709</td>\n",
              "      <td>Private room</td>\n",
              "      <td>299</td>\n",
              "      <td>1</td>\n",
              "      <td>22</td>\n",
              "      <td>2019-06-24</td>\n",
              "      <td>5.69</td>\n",
              "      <td>1</td>\n",
              "      <td>303</td>\n",
              "    </tr>\n",
              "    <tr>\n",
              "      <th>15484</th>\n",
              "      <td>12417189</td>\n",
              "      <td>Largest room in Astoria! Close to all mass tra...</td>\n",
              "      <td>13168457</td>\n",
              "      <td>Rob</td>\n",
              "      <td>Queens</td>\n",
              "      <td>Astoria</td>\n",
              "      <td>40.76555</td>\n",
              "      <td>-73.91458</td>\n",
              "      <td>Private room</td>\n",
              "      <td>70</td>\n",
              "      <td>2</td>\n",
              "      <td>18</td>\n",
              "      <td>2016-11-15</td>\n",
              "      <td>0.46</td>\n",
              "      <td>1</td>\n",
              "      <td>89</td>\n",
              "    </tr>\n",
              "    <tr>\n",
              "      <th>26136</th>\n",
              "      <td>20844601</td>\n",
              "      <td>Ocean Room at Great Location</td>\n",
              "      <td>137264725</td>\n",
              "      <td>Gulcin</td>\n",
              "      <td>Manhattan</td>\n",
              "      <td>Chinatown</td>\n",
              "      <td>40.71364</td>\n",
              "      <td>-73.99153</td>\n",
              "      <td>Private room</td>\n",
              "      <td>50</td>\n",
              "      <td>1</td>\n",
              "      <td>42</td>\n",
              "      <td>2019-06-19</td>\n",
              "      <td>1.91</td>\n",
              "      <td>4</td>\n",
              "      <td>257</td>\n",
              "    </tr>\n",
              "    <tr>\n",
              "      <th>13858</th>\n",
              "      <td>10478526</td>\n",
              "      <td>A cozy two bedroom apartment</td>\n",
              "      <td>16300728</td>\n",
              "      <td>Hamid</td>\n",
              "      <td>Brooklyn</td>\n",
              "      <td>Sunset Park</td>\n",
              "      <td>40.64953</td>\n",
              "      <td>-74.00011</td>\n",
              "      <td>Private room</td>\n",
              "      <td>40</td>\n",
              "      <td>2</td>\n",
              "      <td>9</td>\n",
              "      <td>2019-07-01</td>\n",
              "      <td>0.25</td>\n",
              "      <td>1</td>\n",
              "      <td>20</td>\n",
              "    </tr>\n",
              "    <tr>\n",
              "      <th>13429</th>\n",
              "      <td>10067924</td>\n",
              "      <td>Cozy &amp; Lux Studio in Nolita</td>\n",
              "      <td>36866768</td>\n",
              "      <td>Lisa</td>\n",
              "      <td>Manhattan</td>\n",
              "      <td>Nolita</td>\n",
              "      <td>40.72238</td>\n",
              "      <td>-73.99631</td>\n",
              "      <td>Entire home/apt</td>\n",
              "      <td>179</td>\n",
              "      <td>7</td>\n",
              "      <td>0</td>\n",
              "      <td>NaN</td>\n",
              "      <td>NaN</td>\n",
              "      <td>1</td>\n",
              "      <td>0</td>\n",
              "    </tr>\n",
              "    <tr>\n",
              "      <th>11279</th>\n",
              "      <td>8743269</td>\n",
              "      <td>Studio: Heart of Harlem w backyard</td>\n",
              "      <td>12226733</td>\n",
              "      <td>Henna</td>\n",
              "      <td>Manhattan</td>\n",
              "      <td>Harlem</td>\n",
              "      <td>40.81132</td>\n",
              "      <td>-73.94496</td>\n",
              "      <td>Entire home/apt</td>\n",
              "      <td>95</td>\n",
              "      <td>2</td>\n",
              "      <td>1</td>\n",
              "      <td>2015-10-20</td>\n",
              "      <td>0.02</td>\n",
              "      <td>1</td>\n",
              "      <td>0</td>\n",
              "    </tr>\n",
              "    <tr>\n",
              "      <th>19016</th>\n",
              "      <td>15100883</td>\n",
              "      <td>New york Multi-unit building</td>\n",
              "      <td>95623284</td>\n",
              "      <td>Pablo</td>\n",
              "      <td>Bronx</td>\n",
              "      <td>Fordham</td>\n",
              "      <td>40.86533</td>\n",
              "      <td>-73.89713</td>\n",
              "      <td>Private room</td>\n",
              "      <td>40</td>\n",
              "      <td>3</td>\n",
              "      <td>1</td>\n",
              "      <td>2018-09-24</td>\n",
              "      <td>0.10</td>\n",
              "      <td>1</td>\n",
              "      <td>179</td>\n",
              "    </tr>\n",
              "  </tbody>\n",
              "</table>\n",
              "</div>"
            ],
            "text/plain": [
              "             id                                               name    host_id  \\\n",
              "5431    3928525           Stunning 2 bed 2bath Wall St. Luxury Apt   16101222   \n",
              "29271  22454765         Luxury studio in Astoria just by the water   13510515   \n",
              "42377  32890197                    Brooklyn Room with 2 Chill Guys     175413   \n",
              "42552  33035945    Private hotel room in the heart of Times Square    4342052   \n",
              "15484  12417189  Largest room in Astoria! Close to all mass tra...   13168457   \n",
              "26136  20844601                       Ocean Room at Great Location  137264725   \n",
              "13858  10478526                       A cozy two bedroom apartment   16300728   \n",
              "13429  10067924                        Cozy & Lux Studio in Nolita   36866768   \n",
              "11279   8743269                 Studio: Heart of Harlem w backyard   12226733   \n",
              "19016  15100883                       New york Multi-unit building   95623284   \n",
              "\n",
              "       host_name neighbourhood_group       neighbourhood  latitude  longitude  \\\n",
              "5431   Andrew M.           Manhattan  Financial District  40.70563  -74.00878   \n",
              "29271    Dimitri              Queens             Astoria  40.77179  -73.93442   \n",
              "42377     Angelo            Brooklyn            Bushwick  40.69835  -73.93258   \n",
              "42552        Lea           Manhattan    Theater District  40.76089  -73.98709   \n",
              "15484        Rob              Queens             Astoria  40.76555  -73.91458   \n",
              "26136     Gulcin           Manhattan           Chinatown  40.71364  -73.99153   \n",
              "13858      Hamid            Brooklyn         Sunset Park  40.64953  -74.00011   \n",
              "13429       Lisa           Manhattan              Nolita  40.72238  -73.99631   \n",
              "11279      Henna           Manhattan              Harlem  40.81132  -73.94496   \n",
              "19016      Pablo               Bronx             Fordham  40.86533  -73.89713   \n",
              "\n",
              "             room_type  price  minimum_nights  number_of_reviews last_review  \\\n",
              "5431   Entire home/apt    275               3                  9  2018-05-26   \n",
              "29271  Entire home/apt    200               4                  0         NaN   \n",
              "42377     Private room     33               2                  3  2019-03-31   \n",
              "42552     Private room    299               1                 22  2019-06-24   \n",
              "15484     Private room     70               2                 18  2016-11-15   \n",
              "26136     Private room     50               1                 42  2019-06-19   \n",
              "13858     Private room     40               2                  9  2019-07-01   \n",
              "13429  Entire home/apt    179               7                  0         NaN   \n",
              "11279  Entire home/apt     95               2                  1  2015-10-20   \n",
              "19016     Private room     40               3                  1  2018-09-24   \n",
              "\n",
              "       reviews_per_month  calculated_host_listings_count  availability_365  \n",
              "5431                0.19                               1                 0  \n",
              "29271                NaN                               1                 0  \n",
              "42377               0.75                               1               188  \n",
              "42552               5.69                               1               303  \n",
              "15484               0.46                               1                89  \n",
              "26136               1.91                               4               257  \n",
              "13858               0.25                               1                20  \n",
              "13429                NaN                               1                 0  \n",
              "11279               0.02                               1                 0  \n",
              "19016               0.10                               1               179  "
            ]
          },
          "metadata": {
            "tags": []
          },
          "execution_count": 148
        }
      ]
    }
  ]
}